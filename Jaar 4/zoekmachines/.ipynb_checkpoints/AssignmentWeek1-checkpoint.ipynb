{
 "cells": [
  {
   "cell_type": "markdown",
   "metadata": {
    "deletable": true,
    "editable": true
   },
   "source": [
    "# Assignment  week 1"
   ]
  },
  {
   "cell_type": "markdown",
   "metadata": {
    "deletable": true,
    "editable": true
   },
   "source": [
    "## Notebook made by   (If not filled in correctly: 0 pts for assignment)\n",
    "\n",
    "__Name(s)__: \n",
    "\n",
    "__Student id(s)__ : \n",
    "\n",
    "__Email(s)__:\n",
    "\n",
    "### Pledge (taken from [Coursera's Honor Code](https://www.coursera.org/about/terms/honorcode) )\n",
    "\n",
    "\n",
    "\n",
    "Put here a selfie with your photo where you hold a signed paper with the following text: (if this is team work, put two selfies here). The link must be to some place on the web, not to a local file. **Assignments without the selfies will not be graded and receive 0 points.**\n",
    "\n",
    "> My answers to homework, quizzes and exams will be my own work (except for assignments that explicitly permit collaboration).\n",
    "\n",
    ">I will not make solutions to homework, quizzes or exams available to anyone else. This includes both solutions written by me, as well as any official solutions provided by the course staff.\n",
    "\n",
    ">I will not engage in any other activities that will dishonestly improve my results or dishonestly improve/hurt the results of others.\n",
    "\n",
    "<img src='link to your selfie'/>"
   ]
  },
  {
   "cell_type": "markdown",
   "metadata": {
    "deletable": true,
    "editable": true
   },
   "source": [
    "## Questions\n",
    "\n",
    "#### Book\n",
    "\n",
    "* Chap 1: all exercises.   \n",
    "\n",
    "### Your answers here\n",
    "#### 1.1\n",
    "forecast -> 1\n",
    "\n",
    "home -> 1 2 3 4\n",
    "\n",
    "in -> 2 3\n",
    "\n",
    "increase -> 3\n",
    "\n",
    "july -> 2 3 4\n",
    "\n",
    "new -> 1 4\n",
    "\n",
    "rise -> 2 4\n",
    "\n",
    "sales -> 1 2 3 4\n",
    "\n",
    "top -> 1\n",
    "\n",
    "#### 1.2\n",
    "|               | Doc1 | Doc2 | Doc3 | Doc4 |\n",
    "|---------------|------|------|------|------|\n",
    "| approach      | 0    | 0    | 1    | 0    |\n",
    "| breakthrough  | 1    | 0    | 0    | 0    |\n",
    "| drug          | 1    | 1    | 0    | 0    |\n",
    "| for           | 1    | 0    | 1    | 1    |\n",
    "| hopes         | 0    | 0    | 0    | 1    |\n",
    "| new           | 0    | 1    | 1    | 1    |\n",
    "| of            | 0    | 0    | 1    | 0    |\n",
    "| patients      | 0    | 0    | 0    | 1    |\n",
    "| schizophrenia | 1    | 1    | 1    | 1    |\n",
    "| treatment     | 0    | 0    | 1    | 0    |\n",
    "\n",
    "\n",
    "approach -> 3\n",
    "\n",
    "breakthrough -> 1\n",
    "\n",
    "drug -> 1 2\n",
    "\n",
    "for -> 1 3 4\n",
    "\n",
    "hopes -> 4\n",
    "\n",
    "new -> 2 3 4\n",
    "\n",
    "of -> 3\n",
    "\n",
    "patients -> 4\n",
    "\n",
    "schizophrenia -> 1 2 3 4\n",
    "\n",
    "treatment -> 3\n",
    "\n",
    "#### 1.3\n",
    "1111 AND 1100 = 1100\n",
    "\n",
    "#### Doc 1 & 2\n",
    "\n",
    "1100 OR 0010 = 1110 \n",
    "\n",
    "1110 inv = 0001\n",
    "\n",
    "0001 AND 1011 = 0001\n",
    "\n",
    "#### Doc 4\n",
    "\n",
    "#### 1.4\n",
    "a. Yes, what is in first not in second\n",
    "b. No, O(N) total documents, its maximum in N documents.\n",
    "\n",
    "#### 1.5\n",
    "c. O(2N)\n",
    "\n",
    "#### 1.7\n",
    "tangerine OR trees = 316812 + 46653 = 363465\n",
    "marmalade OR skies = 271658 + 107913 = 379571\n",
    "kaleidoscope OR eyes = 213312 + 87009 = 300321\n",
    "\n",
    "((tangerene OR trees) AND (kaleidoscope OR eyes) AND (marmalade OR skies))\n",
    "\n",
    "#### 1.8\n",
    "\n",
    "#### 1.13\n",
    "\n",
    "\n",
    "\n",
    "#### Programming\n",
    "\n",
    "* [MakeInvertedIndex](MakeInvertedIndex1516.html): vragen 1-8  \n",
    " \n",
    "Before you start it is good to experiment with the described steps in [MakeInvertedIndex](MakeInvertedIndex1516.html)."
   ]
  },
  {
   "cell_type": "markdown",
   "metadata": {
    "collapsed": true,
    "deletable": true,
    "editable": true
   },
   "source": [
    "# 0\n",
    "\n",
    "Create the function `index_collection(folder)` as described in [MakeInvertedIndex](MakeInvertedIndex1516.html)"
   ]
  },
  {
   "cell_type": "code",
   "execution_count": 14,
   "metadata": {
    "collapsed": false,
    "deletable": true,
    "editable": true
   },
   "outputs": [],
   "source": [
    "from collections import Counter,defaultdict\n",
    "from bs4 import BeautifulSoup\n",
    "import os\n",
    "import glob\n",
    "import nltk\n",
    "import math\n",
    "from __future__ import division\n",
    "\n",
    "def index_collection(folder):\n",
    "    MyIndex= defaultdict(Counter) # initialize MyIndex\n",
    "    for infile in glob.glob( os.path.join(folder, '*.xml') ):  # loop over each file\n",
    "        fileIndex = os.path.basename(infile).replace('.xml','')\n",
    "        print(\"current file is: \" + fileIndex);\n",
    "        with open(infile, 'r') as f:  # open file\n",
    "            soup= BeautifulSoup(f.read(), \"lxml\")  # get the text out\n",
    "            text = [w.lower() for w in nltk.word_tokenize(soup.get_text())]   # tokenize, lower case\n",
    "            for w in text:    # update MyIndex with each token \n",
    "                MyIndex[w][fileIndex]+=1\n",
    "                \n",
    "    return MyIndex\n",
    "        "
   ]
  },
  {
   "cell_type": "markdown",
   "metadata": {
    "deletable": true,
    "editable": true
   },
   "source": [
    "# 1 \n",
    "\n",
    "Count the total number of tokens in the works of Shakespeare and the total number of unique tokens.  Answer with two one-liners using the created index."
   ]
  },
  {
   "cell_type": "code",
   "execution_count": null,
   "metadata": {
    "collapsed": false,
    "deletable": true,
    "editable": true
   },
   "outputs": [
    {
     "name": "stdout",
     "output_type": "stream",
     "text": [
      "current file is: t_night\n",
      "current file is: macbeth\n",
      "current file is: j_caesar\n",
      "current file is: lll\n",
      "current file is: hen_viii\n",
      "current file is: troilus\n",
      "current file is: timon\n",
      "current file is: rich_iii\n",
      "current file is: all_well\n",
      "current file is: lear\n",
      "current file is: coriolan\n",
      "current file is: othello\n",
      "current file is: much_ado\n",
      "current file is: titus\n",
      "current file is: cymbelin\n",
      "current file is: win_tale\n",
      "current file is: com_err\n",
      "current file is: hen_iv_2\n",
      "current file is: rich_ii\n",
      "current file is: john\n",
      "current file is: m_for_m\n",
      "current file is: a_and_c\n",
      "current file is: taming\n"
     ]
    }
   ],
   "source": [
    "# hint: look up how you compute the sum of a list of numbers without a for loop or an extra variable\n",
    "\n",
    "index = index_collection(\"shaks200\");"
   ]
  },
  {
   "cell_type": "markdown",
   "metadata": {
    "deletable": true,
    "editable": true
   },
   "source": [
    "# 2\n",
    "\n",
    "Look at the vocabulary. Is it OK? Propose further normalization, or better tokenization. Also see Chapter 2"
   ]
  },
  {
   "cell_type": "code",
   "execution_count": null,
   "metadata": {
    "collapsed": true,
    "deletable": true,
    "editable": true
   },
   "outputs": [],
   "source": [
    "print(index);"
   ]
  },
  {
   "cell_type": "markdown",
   "metadata": {
    "deletable": true,
    "editable": true
   },
   "source": [
    "# 3 \n",
    "\n",
    "Make a new index where you lower case all words except if each letter in a word is a capital. So 'Caesar' becomes 'caesar', but CAESAR remains the same."
   ]
  },
  {
   "cell_type": "code",
   "execution_count": null,
   "metadata": {
    "collapsed": true,
    "deletable": true,
    "editable": true
   },
   "outputs": [],
   "source": []
  },
  {
   "cell_type": "markdown",
   "metadata": {
    "deletable": true,
    "editable": true
   },
   "source": [
    "# 4 \n",
    "\n",
    "Calculate the document frequency (in how many documents occurs the term) for each term and the corpus frequency (how often does the term occur in the corpus) for each term. Add these two values as new values in your inverted index. \n",
    "You can use several data-structures for this: a \"JSON like dict\", or a \"CSV-like\" triple. Choose what you like best."
   ]
  },
  {
   "cell_type": "code",
   "execution_count": null,
   "metadata": {
    "collapsed": true,
    "deletable": true,
    "editable": true
   },
   "outputs": [],
   "source": []
  },
  {
   "cell_type": "markdown",
   "metadata": {
    "deletable": true,
    "editable": true
   },
   "source": [
    "# 5 \n",
    "\n",
    "Create a function which from the enhanced index from the previous question produces a table with the following information:\n",
    "<pre>\n",
    "                    size of the vocabulary\n",
    "                    nr of terms with corpus frequency 1\n",
    "                    nr of terms with document frequency 1\n",
    "                    nr of terms with document frequency  equal to the number of documents in the corpus\n",
    "                    nr of terms with document frequency  half or more than the number of documents in the corpus\n",
    "</pre>     "
   ]
  },
  {
   "cell_type": "code",
   "execution_count": null,
   "metadata": {
    "collapsed": true,
    "deletable": true,
    "editable": true
   },
   "outputs": [],
   "source": []
  },
  {
   "cell_type": "markdown",
   "metadata": {
    "deletable": true,
    "editable": true
   },
   "source": [
    "# 6 \n",
    "\n",
    "<strong>Zipf law</strong>\n",
    "            Look up what Zipf's law means in Wikipedia or in the book. Now show that it holds or not for our corpus.\n",
    "            Do that as follows: (instead of a csv file you can of course use a Python datastructure and use Python's pyplot to do the plotting.)\n",
    " \n",
    "<ul>\n",
    "\n",
    "   <li>Create a csv file containing the  corpus frequency of each word. Create\n",
    "      a row for every word in the vocabulary.\n",
    "   </li>\n",
    "\n",
    "   <li>Order the file by corpus frequency descending.</li>\n",
    "\n",
    "   <li>Add an additional column with row (line)-numbers. </li>\n",
    "\n",
    "   <li>Plot the logarithm of the row-number on the x-axis versus the logarithm of the corpus\n",
    "      frequency on the y-axis.  See the code below using `pandas` or use these bash oneliners \n",
    "      <br>\n",
    "       \n",
    "      <pre>\n",
    "        bash-3.2$ cat hamlet.txt | sed 's/.*://'|sort -nr|head\n",
    "1145\n",
    "967\n",
    "745\n",
    "673\n",
    "564\n",
    "546\n",
    "533\n",
    "513\n",
    "465\n",
    "438\n",
    "bash-3.2$ gnuplot -persist &lt;(echo -e 'plot \"-\" with lines\\n';cat hamlet.txt | sed 's/.*://'|sort -nr| awk '{print log(NR) \" \" log($1)}')\n",
    "</pre>\n",
    "     </li>\n",
    "\n",
    "   <li>Compare your plot to the  Zipf plots on Wikipedia.\n",
    "       </li>\n",
    "\n",
    "</ul>"
   ]
  },
  {
   "cell_type": "code",
   "execution_count": 3,
   "metadata": {
    "collapsed": false,
    "deletable": true,
    "editable": true
   },
   "outputs": [
    {
     "data": {
      "image/png": "[encoded data removed]",
      "text/plain": [
       "<matplotlib.figure.Figure at 0x7f694b970208>"
      ]
     },
     "metadata": {},
     "output_type": "display_data"
    }
   ],
   "source": [
    "import pandas as pd \n",
    "%matplotlib inline\n",
    "\n",
    "a='''1145\n",
    "967\n",
    "745\n",
    "673\n",
    "564\n",
    "546\n",
    "533\n",
    "513\n",
    "465\n",
    "438'''\n",
    "\n",
    "H=pd.Series(a.split('\\n')).astype(int)\n",
    "\n",
    "#H.plot();\n",
    "H.plot(loglog=True);"
   ]
  },
  {
   "cell_type": "markdown",
   "metadata": {
    "deletable": true,
    "editable": true
   },
   "source": [
    "# 7 \n",
    "\n",
    "Download all Questions to Parliament (kamervragen) from <a href=\"http://maartenmarx.nl/teaching/zoekmachines/Data/kvr.zip\">http://maartenmarx.nl/teaching/zoekmachines/Data/kvr.zip</a> and do everything you did above for Shakespeare again for this corpus.\n",
    "            \n",
    "<p><strong>Note</strong> Depending on the computer you use, you may need to implement the block merging step from Figure 4.3. </p>\n",
    "At least answer the following queries:\n",
    "\n",
    "<ol>\n",
    "\n",
    "   <li>What is the size in GB of all kamervragen?\n",
    "       </li>\n",
    "\n",
    "   <li>How much reduces this when you delete all markup?\n",
    "       </li>\n",
    "\n",
    "   <li>Wat is the size of the index?\n",
    "       </li>\n",
    "\n",
    "   <li>Time all steps and put them in a table. \n",
    "\n",
    "      </li>\n",
    "\n",
    "</ol>\n"
   ]
  },
  {
   "cell_type": "code",
   "execution_count": 4,
   "metadata": {
    "collapsed": true,
    "deletable": true,
    "editable": true
   },
   "outputs": [],
   "source": [
    "##\n",
    "# A couple of pointers to get you started:\n",
    "#  * Create a separate function to read the data and construct an index\n",
    "#  * Make sure to apply basic tokenization, lowercasing, etc.\n",
    "# \n",
    "# The exercises below each specify a function that you can implement. Try\n",
    "# not to do redo work. With proper generic functions defined here you can\n",
    "# achieve very small implementations below. Any variables and functions\n",
    "# defined here are also accessible within the answer fields below.\n",
    "# \n",
    "# Switching between the Shakespeare or Motie collection should be\n",
    "# relatively easy. It is not necessary to duplicate your entire code base\n",
    "# merely to use a different collection. Think about parts of your code\n",
    "# that will be the same, regardless of the underlying data set.\n",
    "# \n"
   ]
  },
  {
   "cell_type": "markdown",
   "metadata": {
    "deletable": true,
    "editable": true
   },
   "source": [
    "## 8 Boolean Search\n",
    "\n",
    "We will now make a Boolean search engine as described in Chapter 1. First do these exercises for your Shakespeare collection and then do them also for your set of Motie files."
   ]
  },
  {
   "cell_type": "markdown",
   "metadata": {
    "deletable": true,
    "editable": true
   },
   "source": [
    "### 8.1 Boolean negation search\n",
    "\n",
    "Input: one word. Output: all documents which do NOT contain the word."
   ]
  },
  {
   "cell_type": "code",
   "execution_count": 5,
   "metadata": {
    "collapsed": true,
    "deletable": true,
    "editable": true
   },
   "outputs": [],
   "source": [
    "def booleanSearchNOT(word):\n",
    "    \"\"\"\n",
    "    This function takes a string as input and prints all document ids\n",
    "    which do NOT contain the word.\n",
    "    \"\"\"\n",
    "    \n",
    "    # Your implementation here"
   ]
  },
  {
   "cell_type": "markdown",
   "metadata": {
    "deletable": true,
    "editable": true
   },
   "source": [
    "### 8.2 Boolean OR search\n",
    "Input: a string of words. Output: all documents which contain at least one of the words. \n",
    "You may choose your own input format for the string. \n",
    "Be sure not to include DocID's more often than once."
   ]
  },
  {
   "cell_type": "code",
   "execution_count": 6,
   "metadata": {
    "collapsed": true,
    "deletable": true,
    "editable": true
   },
   "outputs": [],
   "source": [
    "def booleanSearchOR(query):\n",
    "    \"\"\"\n",
    "    This function takes a query as input and prints all document ids which\n",
    "    contain at least one of the words.\n",
    "    \"\"\"\n",
    "    \n",
    "    # Your implemention here..."
   ]
  },
  {
   "cell_type": "markdown",
   "metadata": {
    "deletable": true,
    "editable": true
   },
   "source": [
    "### 8.3 Ranked boolean search\n",
    "A Boolean search engine is not supposed to rank the documents it returns, but we can do that anyway.\n",
    "\n",
    "#### 8.3.1 Most-words first\n",
    "Rank the documents returned for the OR-query in last question as follows: documents which match most words are returned first. Print the document ID's followed by the number of matching words (i.e. the \"score\" of the document for this query)."
   ]
  },
  {
   "cell_type": "code",
   "execution_count": 7,
   "metadata": {
    "collapsed": true,
    "deletable": true,
    "editable": true
   },
   "outputs": [],
   "source": [
    "def booleanSearchMatch(query):\n",
    "    \"\"\"\n",
    "    This function takes a query as input and prints all document ids and\n",
    "    scores of documents which contain at least one of the words. Documents\n",
    "    are ranked such that documents that match the most words are returned\n",
    "    first.\n",
    "    \"\"\"\n",
    "    \n",
    "    # Your implementation here..."
   ]
  },
  {
   "cell_type": "markdown",
   "metadata": {
    "deletable": true,
    "editable": true
   },
   "source": [
    "#### 8.3.2 Term-frequency sum\n",
    "Now rank the documents by the sum of the term frequencies for all query words. Print doc ID's and scores."
   ]
  },
  {
   "cell_type": "code",
   "execution_count": 8,
   "metadata": {
    "collapsed": true,
    "deletable": true,
    "editable": true
   },
   "outputs": [],
   "source": [
    "def booleanSearchSumTF(query):\n",
    "    \"\"\"\n",
    "    This function takes a query as input and prints all document ids and\n",
    "    scores of documents which contain at least one of the words. Documents\n",
    "    are ranked by the sum of the term frequencies of all query words.\n",
    "    \"\"\"\n",
    "    \n",
    "    # Your implementation here..."
   ]
  },
  {
   "cell_type": "markdown",
   "metadata": {
    "deletable": true,
    "editable": true
   },
   "source": [
    "#### 8.3.3 Combined\n",
    "Now combine the two rankings. First rank on number of matching search terms, and then on the sum of the term counts. Print both scores for each DocID."
   ]
  },
  {
   "cell_type": "code",
   "execution_count": 9,
   "metadata": {
    "collapsed": true,
    "deletable": true,
    "editable": true
   },
   "outputs": [],
   "source": [
    "def booleanSearchCombined(query):\n",
    "    \"\"\"\n",
    "    This function takes a query as input and prints all document ids and\n",
    "    scores of documents which contain at least one of the words. Documents\n",
    "    are ranked first on the number of matching search terms, and then on\n",
    "    the sum of the term frequency counts.\n",
    "    \"\"\"\n",
    "    \n",
    "    # Your implementation here..."
   ]
  },
  {
   "cell_type": "markdown",
   "metadata": {
    "deletable": true,
    "editable": true
   },
   "source": [
    "### 8.4 Boolean AND search\n",
    "Input: a string of words. Output: all documents which contain ALL of the words. \n",
    "You may choose your own input format for the string."
   ]
  },
  {
   "cell_type": "code",
   "execution_count": 10,
   "metadata": {
    "collapsed": true,
    "deletable": true,
    "editable": true
   },
   "outputs": [],
   "source": [
    "def booleanSearchAND(query):\n",
    "    \"\"\"\n",
    "    This function takes a query as input and prints all document ids which\n",
    "    contain ALL the words.\n",
    "    \"\"\"\n",
    "    \n",
    "    # Your implementation here..."
   ]
  },
  {
   "cell_type": "markdown",
   "metadata": {
    "deletable": true,
    "editable": true
   },
   "source": [
    "### 8.5 Ranked Boolean AND search\n",
    "How would you implement a ranking for the Boolean AND?"
   ]
  },
  {
   "cell_type": "markdown",
   "metadata": {
    "deletable": true,
    "editable": true
   },
   "source": [
    "> Your answer here"
   ]
  },
  {
   "cell_type": "markdown",
   "metadata": {
    "deletable": true,
    "editable": true
   },
   "source": [
    "### 8.6 Relaxed boolean AND search"
   ]
  },
  {
   "cell_type": "markdown",
   "metadata": {
    "deletable": true,
    "editable": true
   },
   "source": [
    "How can you implement a \"relaxed version\" of Boolean AND, in which you also give results if not ALL query words are present, but as much as possible? Of course you want to rank the documents again."
   ]
  },
  {
   "cell_type": "markdown",
   "metadata": {
    "deletable": true,
    "editable": true
   },
   "source": [
    "> Your answer here"
   ]
  },
  {
   "cell_type": "code",
   "execution_count": null,
   "metadata": {
    "collapsed": true,
    "deletable": true,
    "editable": true
   },
   "outputs": [],
   "source": []
  }
 ],
 "metadata": {
  "kernelspec": {
   "display_name": "Python 3",
   "language": "python",
   "name": "python3"
  },
  "language_info": {
   "codemirror_mode": {
    "name": "ipython",
    "version": 3
   },
   "file_extension": ".py",
   "mimetype": "text/x-python",
   "name": "python",
   "nbconvert_exporter": "python",
   "pygments_lexer": "ipython3",
   "version": "3.5.2"
  }
 },
 "nbformat": 4,
 "nbformat_minor": 1
}

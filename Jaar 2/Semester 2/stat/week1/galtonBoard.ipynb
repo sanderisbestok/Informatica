{
 "cells": [
  {
   "cell_type": "markdown",
   "metadata": {
    "deletable": true,
    "editable": true
   },
   "source": [
    "# Galton Board Simulation"
   ]
  },
  {
   "cell_type": "markdown",
   "metadata": {
    "deletable": true,
    "editable": true
   },
   "source": [
    "Christiaan van Roon, 11122854\n",
    "\n",
    "Sander Hansen, 10995080"
   ]
  },
  {
   "cell_type": "code",
   "execution_count": 1,
   "metadata": {
    "collapsed": false,
    "deletable": true,
    "editable": true
   },
   "outputs": [
    {
     "name": "stdout",
     "output_type": "stream",
     "text": [
      "Populating the interactive namespace from numpy and matplotlib\n"
     ]
    }
   ],
   "source": [
    "%pylab inline"
   ]
  },
  {
   "cell_type": "markdown",
   "metadata": {
    "deletable": true,
    "editable": true
   },
   "source": [
    "In this exercise we will simulate a Galton board. The basic random\n",
    "experiment in a Galton board is a small spherical ball vertically\n",
    "falling and hitting a small pin. The ball is restricted to move in two\n",
    "dimensional plane and thus is forced to go to the left or right of the\n",
    "pin. Probability of going left is $P(L)$ and that of going right is\n",
    "$P(R)=1-P(L)$. \n",
    "\n",
    "Then just below the first pin when the ball falls to the left, is\n",
    "another pin. Then the ball is again forced to go left or right. The\n",
    "same is done for the ball hitting the top most pin and goes right.\n",
    "\n",
    "Note that a ball first going left and then right ends up in the same\n",
    "position as ball first going right and then going left.\n",
    "\n",
    "Along the same line of reasoning we can add more layers of pins to\n",
    "obtain a Galton board of $n$ layers. The path a marble takes when\n",
    "falling down and going left or right $n$ times is characterized as a\n",
    "string of length $n$ of only L's and R's (encode these with 0 and 1 \n",
    "respectively).\n",
    "\n",
    "The position where the ball ends up is given by the number of 'R's in\n",
    "the string (when we number the bins from left to right with numbers 0 to $n$."
   ]
  },
  {
   "cell_type": "code",
   "execution_count": 2,
   "metadata": {
    "collapsed": false,
    "deletable": true,
    "editable": true
   },
   "outputs": [],
   "source": [
    "def galtonSimulate(n_layers, n_balls, p_left=0.5):\n",
    "    \"\"\"\n",
    "    Simulate a Galton Board\n",
    "    n_layers: number of layers in Galton Board\n",
    "    n_balls: total number of balls dropped\n",
    "    p_left: the probability the ball goes left hitting a pin\n",
    "    return:\n",
    "    A: array of shape (n_layers+1,) with A[i] the number\n",
    "    of balls that fall into bin i\n",
    "    \"\"\"\n",
    "    # Determine path and calculate bin number\n",
    "    determ = np.random.randint(2, size=(n_balls, n_layers))\n",
    "    bin_number = np.sum(determ, axis=1)\n",
    "    A = np.bincount(bin_number)\n",
    "    \n",
    "    return A"
   ]
  },
  {
   "cell_type": "code",
   "execution_count": 3,
   "metadata": {
    "collapsed": false,
    "deletable": true,
    "editable": true
   },
   "outputs": [],
   "source": [
    "n_layers = 10\n",
    "n_balls = 10000\n",
    "\n",
    "A = galtonSimulate(n_layers,n_balls)"
   ]
  },
  {
   "cell_type": "code",
   "execution_count": 4,
   "metadata": {
    "collapsed": false,
    "deletable": true,
    "editable": true,
    "scrolled": true
   },
   "outputs": [
    {
     "data": {
      "image/png": "[encoded data removed]",
      "text/plain": [
       "<matplotlib.figure.Figure at 0x7fa5bc543c90>"
      ]
     },
     "metadata": {},
     "output_type": "display_data"
    }
   ],
   "source": [
    "# Show graph\n",
    "index = np.arange(n_layers + 1)\n",
    "\n",
    "fig, ax = plt.subplots()\n",
    "bar = ax.bar(index - 0.25, A, 0.5, color='r')\n",
    "plt.axis([-0.25, n_layers + 0.25, 0, amax(A)])\n",
    "plt.xticks(np.arange(n_layers + 1))\n",
    "\n",
    "ax.set_ylabel('Amount of times')\n",
    "ax.set_xlabel('Bin number')\n",
    "ax.set_title('Galton Board')\n",
    "plt.show()"
   ]
  },
  {
   "cell_type": "code",
   "execution_count": 5,
   "metadata": {
    "collapsed": false,
    "deletable": true,
    "editable": true
   },
   "outputs": [
    {
     "data": {
      "image/png": "[encoded data removed]",
      "text/plain": [
       "<matplotlib.figure.Figure at 0x7fa5bc518810>"
      ]
     },
     "metadata": {},
     "output_type": "display_data"
    }
   ],
   "source": [
    "# scaled version\n",
    "probability = A / float(n_balls)\n",
    "\n",
    "index = np.arange(n_layers + 1)\n",
    "\n",
    "fig, ax = plt.subplots()\n",
    "bar = ax.bar(index - 0.25, probability, 0.5, color='b')\n",
    "plt.axis([-0.25, n_layers + 0.25, 0, 1])\n",
    "plt.xticks(np.arange(n_layers + 1))\n",
    "ax.set_ylabel('Probability')\n",
    "ax.set_xlabel('Bin number')\n",
    "ax.set_title('Galton Board Probability')\n",
    "plt.show()"
   ]
  }
 ],
 "metadata": {
  "anaconda-cloud": {},
  "kernelspec": {
   "display_name": "Python 2",
   "language": "python",
   "name": "python2"
  },
  "language_info": {
   "codemirror_mode": {
    "name": "ipython",
    "version": 2
   },
   "file_extension": ".py",
   "mimetype": "text/x-python",
   "name": "python",
   "nbconvert_exporter": "python",
   "pygments_lexer": "ipython2",
   "version": "2.7.12"
  }
 },
 "nbformat": 4,
 "nbformat_minor": 1
}

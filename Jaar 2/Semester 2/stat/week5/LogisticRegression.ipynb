{
 "cells": [
  {
   "cell_type": "markdown",
   "metadata": {},
   "source": [
    "Christiaan van Roon - 11122854\n",
    "Sander Hansen - 10995080"
   ]
  },
  {
   "cell_type": "markdown",
   "metadata": {
    "deletable": true,
    "editable": true
   },
   "source": [
    "# Logistic Regression"
   ]
  },
  {
   "cell_type": "code",
   "execution_count": 22,
   "metadata": {
    "collapsed": false,
    "deletable": true,
    "editable": true
   },
   "outputs": [],
   "source": [
    "#Pylab inline is not a good habit to use\n",
    "import numpy\n",
    "import matplotlib\n",
    "from matplotlib import pylab, mlab, pyplot\n",
    "np = numpy\n",
    "plt = pyplot\n",
    "\n",
    "from IPython.core.pylabtools import figsize, getfigs\n",
    "\n",
    "from pylab import *\n",
    "from numpy import *"
   ]
  },
  {
   "cell_type": "code",
   "execution_count": 23,
   "metadata": {
    "collapsed": false,
    "deletable": true,
    "editable": true
   },
   "outputs": [],
   "source": [
    "#Create Data\n",
    "\n",
    "x1 = 1.5*np.random.randn(100)+3\n",
    "y1 = 1.5*np.random.randn(100)+5\n",
    "x2 = 1.5*np.random.randn(100)+7\n",
    "y2 = 1.5*np.random.randn(100)+2\n",
    "X = np.vstack((np.hstack((x1,x2)),np.hstack((y1,y2)))).T # the data matrix (every row a feature vector)\n",
    "y = 1.0*np.hstack((np.zeros(100), np.ones(100)))\n"
   ]
  },
  {
   "cell_type": "code",
   "execution_count": 24,
   "metadata": {
    "collapsed": false,
    "deletable": true,
    "editable": true,
    "scrolled": true
   },
   "outputs": [
    {
     "data": {
      "image/png": "[encoded data removed]",
      "text/plain": [
       "<matplotlib.figure.Figure at 0x7f6a2ef76668>"
      ]
     },
     "metadata": {},
     "output_type": "display_data"
    }
   ],
   "source": [
    "# Error function\n",
    "def f_1(t_0, t_1, t_2, x):\n",
    "    return t_0 + t_1 * x + t_2 * x\n",
    "\n",
    "# Plot function\n",
    "def f_2(t_0, t_1, t_2 , x):\n",
    "    return -t_1/ t_2 * x - t_0/ t_2\n",
    "\n",
    "# Sigmoid function\n",
    "def g(x):\n",
    "    return 1 / (1 + exp(-1 *(x)))\n",
    "\n",
    "# A variant on multivariate gradient descent, using the sigmoid function\n",
    "def gradient_descent_multi(alpha, points, y_array, i):\n",
    "    t_0 = 1\n",
    "    t_1 = 1\n",
    "    t_2 = -1\n",
    "    \n",
    "    for _ in range(i):\n",
    "        temp_0 = t_0 - sum((g(f_1(t_0, t_1, t_2, 1)) - y_array) * (alpha / y_array.size)) \n",
    "        for x in points:\n",
    "            temp_1 = t_1 - sum((g(f_1(t_0, t_1, t_2, x)) - y_array) * (alpha / y_array.size) * x) \n",
    "            temp_2 = t_2 - sum((g(f_1(t_0, t_1, t_2, x)) - y_array) * (alpha / y_array.size) * x)\n",
    "            t_0 = temp_0\n",
    "            t_1 = temp_1\n",
    "            t_2 = temp_2\n",
    "        \n",
    "    return t_0, t_1, t_2\n",
    "\n",
    "# Plot data\n",
    "plot(x1, y1, '+', label = 'Class 1')\n",
    "plot(x2, y2, 'x', label = 'Class 2')\n",
    "\n",
    "\n",
    "t_0, t_1, t_2 = gradient_descent_multi(0.001, array([X[:,0], X[:,1]]), y, 1000)\n",
    "\n",
    "result = f_2(t_0, t_1, t_2, arange(0, 10))\n",
    "\n",
    "plot(np.arange(0, 10), result, color= 'black')\n",
    "plt.axis('equal')\n",
    "legend()\n",
    "show()"
   ]
  },
  {
   "cell_type": "markdown",
   "metadata": {
    "collapsed": true,
    "deletable": true,
    "editable": true
   },
   "source": [
    "You cannot classify this set with 100% accuracy using a standard logistic regression classifier (why not).\n",
    "\n",
    "    -It is not possible because they will be in a perfect square. If you would plot the distance between them , it would be the same. So the probability would also be the same.\n",
    "\n",
    "Adding extra features to the data is needed to correcty classify the data set. Explain why that works.\n",
    "\n",
    "    -If we however add a second asymptote. We can check if they are inside those asymptotes or outside. En the probability would become different for every situation.\n",
    "   "
   ]
  },
  {
   "cell_type": "code",
   "execution_count": null,
   "metadata": {
    "collapsed": true
   },
   "outputs": [],
   "source": []
  }
 ],
 "metadata": {
  "kernelspec": {
   "display_name": "Python 3",
   "language": "python",
   "name": "python3"
  },
  "language_info": {
   "codemirror_mode": {
    "name": "ipython",
    "version": 3
   },
   "file_extension": ".py",
   "mimetype": "text/x-python",
   "name": "python",
   "nbconvert_exporter": "python",
   "pygments_lexer": "ipython3",
   "version": "3.5.2"
  }
 },
 "nbformat": 4,
 "nbformat_minor": 2
}

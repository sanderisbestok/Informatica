{
 "cells": [
  {
   "cell_type": "code",
   "execution_count": null,
   "metadata": {
    "collapsed": true
   },
   "outputs": [],
   "source": [
    "#Discrete Fourier Transform Assignment 4.\n",
    "import numpy as np\n",
    "import random\n",
    "import matplotlib.pyplot as plt\n",
    "print (\"Input Sine Wave Signal:\")\n",
    "N = 360 # degrees (Number of samples)\n",
    "a = float(random.randint(1, 100))\n",
    "f = float(random.randint(1, 100))\n",
    "p = float(random.randint(0, 360))\n",
    "print (\"frequency = \" + str(f))\n",
    "print (\"amplitude = \" + str(a))\n",
    "print (\"phase ang = \" + str(p))\n",
    "pi2 = np.pi * 2"
   ]
  },
  {
   "cell_type": "code",
   "execution_count": null,
   "metadata": {
    "collapsed": true
   },
   "outputs": [],
   "source": [
    "fList = []\n",
    "for n in range(N):\n",
    "    #############################\n",
    "    #Add code to create a list of length containing sine samples with the \n",
    "    #parameters from above\n",
    "    #############################\n",
    "    "
   ]
  },
  {
   "cell_type": "code",
   "execution_count": null,
   "metadata": {
    "collapsed": true
   },
   "outputs": [],
   "source": [
    "#Add code to plot the result here\n"
   ]
  },
  {
   "cell_type": "code",
   "execution_count": null,
   "metadata": {
    "collapsed": true
   },
   "outputs": [],
   "source": [
    "#function to calculate the Discrete Fourier Transform\n",
    "def DFT(fList):\n",
    "    N = len(fList)\n",
    "    DFTList = []\n",
    "    for m in range(N):\n",
    "        Fm = 0.0\n",
    "        for n in range(N):\n",
    "            ####### Add code for the DFT \n",
    "            \n",
    "    return DFTList        "
   ]
  },
  {
   "cell_type": "code",
   "execution_count": null,
   "metadata": {
    "collapsed": true
   },
   "outputs": [],
   "source": [
    "DFTList = DFT(fList)"
   ]
  },
  {
   "cell_type": "code",
   "execution_count": null,
   "metadata": {
    "collapsed": true
   },
   "outputs": [],
   "source": [
    "# print results"
   ]
  },
  {
   "cell_type": "code",
   "execution_count": null,
   "metadata": {
    "collapsed": true
   },
   "outputs": [],
   "source": [
    "#function to calculate the inverse Fourier transform\n",
    "def InverseDFT(DFTList):\n",
    "    N = len(DFTList)\n",
    "    fList = []\n",
    "    for n in range(N):\n",
    "        fn = 0.0\n",
    "        for m in range(N):\n",
    "            #add your code here\n",
    "    return fList        "
   ]
  },
  {
   "cell_type": "code",
   "execution_count": null,
   "metadata": {
    "collapsed": true
   },
   "outputs": [],
   "source": [
    "fList2 = InverseDFT(DFTList)"
   ]
  },
  {
   "cell_type": "code",
   "execution_count": null,
   "metadata": {
    "collapsed": true
   },
   "outputs": [],
   "source": [
    "#printt the inverse result and original result to compare.\n"
   ]
  },
  {
   "cell_type": "code",
   "execution_count": null,
   "metadata": {
    "collapsed": true
   },
   "outputs": [],
   "source": [
    "#Plot original and inverse result"
   ]
  }
 ],
 "metadata": {
  "kernelspec": {
   "display_name": "Python 3",
   "language": "python",
   "name": "python3"
  },
  "language_info": {
   "codemirror_mode": {
    "name": "ipython",
    "version": 3
   },
   "file_extension": ".py",
   "mimetype": "text/x-python",
   "name": "python",
   "nbconvert_exporter": "python",
   "pygments_lexer": "ipython3",
   "version": "3.6.1"
  }
 },
 "nbformat": 4,
 "nbformat_minor": 2
}

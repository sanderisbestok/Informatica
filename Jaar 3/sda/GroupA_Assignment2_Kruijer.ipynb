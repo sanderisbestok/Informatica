{
 "cells": [
  {
   "cell_type": "markdown",
   "metadata": {
    "deletable": true,
    "editable": true
   },
   "source": [
    "# Assignment 2\n",
    "Wilco Kruijer -- 11056851"
   ]
  },
  {
   "cell_type": "code",
   "execution_count": 9,
   "metadata": {
    "collapsed": true,
    "deletable": true,
    "editable": true
   },
   "outputs": [],
   "source": [
    "import matplotlib.pyplot as plt\n",
    "from scipy.special import erf, erfinv\n",
    "import numpy as np\n",
    "import math"
   ]
  },
  {
   "cell_type": "markdown",
   "metadata": {
    "deletable": true,
    "editable": true
   },
   "source": [
    "## Problem 1\n",
    "### Question 1\n"
   ]
  },
  {
   "cell_type": "code",
   "execution_count": 10,
   "metadata": {
    "collapsed": true,
    "deletable": true,
    "editable": true
   },
   "outputs": [],
   "source": [
    "seed = 5\n",
    "\n",
    "def randint(a = 1664525, c = 1013904223, m = 2 ** 32):\n",
    "    \"\"\"Generates a random integer between 0 and 2^32 - 1\"\"\"\n",
    "    global seed\n",
    "    \n",
    "    seed = (a * seed + c) % m\n",
    "    return seed\n",
    "\n",
    "def rand(m = 2 ** 32):\n",
    "    \"\"\"Generates a random number between 0 and 1\"\"\"\n",
    "    return randint(m=m) / m\n",
    "\n",
    "def randnorm(mu = 0, sigma = 1):        \n",
    "    def cdfinv(y):\n",
    "        return mu + sigma * (2 ** 0.5) * erfinv((2 * y) - 1)\n",
    "        \n",
    "    r = rand()\n",
    "    return cdfinv(r)\n",
    "\n",
    "def randlognorm(mu = 0, sigma = 0.3):\n",
    "        return np.exp(randnorm(mu, sigma))"
   ]
  },
  {
   "cell_type": "code",
   "execution_count": 11,
   "metadata": {
    "collapsed": false,
    "deletable": true,
    "editable": true
   },
   "outputs": [
    {
     "data": {
      "text/plain": [
       "0.80749398863151345"
      ]
     },
     "execution_count": 11,
     "metadata": {},
     "output_type": "execute_result"
    }
   ],
   "source": [
    "randlognorm()"
   ]
  },
  {
   "cell_type": "markdown",
   "metadata": {
    "deletable": true,
    "editable": true
   },
   "source": [
    "### Question 2, 3"
   ]
  },
  {
   "cell_type": "code",
   "execution_count": 102,
   "metadata": {
    "collapsed": true,
    "deletable": true,
    "editable": true
   },
   "outputs": [],
   "source": [
    "def percentile(values, alpha):\n",
    "    \"\"\"Returns the linearly interpolated alpha percentile\"\"\"\n",
    "    values.sort()\n",
    "    n = alpha * (len(values) - 1)\n",
    "    f = int(math.floor(n))\n",
    "    c = int(math.ceil(n))\n",
    "    \n",
    "    diffPercentage = n - f\n",
    "    \n",
    "    return values[f] + (values[c] - values[f]) * diffPercentage\n",
    "    \n",
    "assert(percentile([1, 4, 5], 0.95) == 4.9)"
   ]
  },
  {
   "cell_type": "markdown",
   "metadata": {
    "deletable": true,
    "editable": true
   },
   "source": [
    "### Question 4\n"
   ]
  },
  {
   "cell_type": "code",
   "execution_count": 107,
   "metadata": {
    "collapsed": false,
    "deletable": true,
    "editable": true
   },
   "outputs": [
    {
     "data": {
      "image/png": "[encoded data removed]",
      "text/plain": [
       "<matplotlib.figure.Figure at 0x7f4901863f28>"
      ]
     },
     "metadata": {},
     "output_type": "display_data"
    }
   ],
   "source": [
    "def problem_1_4():\n",
    "    mu = 0\n",
    "    sigma = 0.3\n",
    "    \n",
    "    def lognorm_pdf(x):\n",
    "        return (1/(x * sigma * ((2 * math.pi) ** 0.5))) * math.e ** \\\n",
    "            (-1 * (((np.log(x) - mu) ** 2) / (2 * (sigma ** 2))))\n",
    "    \n",
    "    n, k = 10 ** 5, 70\n",
    "    l = [randlognorm(mu, sigma) for i in range (0, n)]\n",
    "    \n",
    "    q1 = percentile(l, 0.25)\n",
    "    q2 = percentile(l, 0.5)\n",
    "    q3 = percentile(l, 0.75)\n",
    "    \n",
    "    plt.axvline(x=q1, color='orange', label=\"Quertile 1\")\n",
    "    plt.axvline(x=q2, color='green', label=\"Quertile 2\")\n",
    "    plt.axvline(x=q3, color='yellow', label=\"Quertile 3\")\n",
    "    plt.legend()\n",
    "\n",
    "    plt.hist(l, k, normed=True)\n",
    "\n",
    "    xs = np.linspace(0.1, 3.0, 100)\n",
    "    ys = lognorm_pdf(xs)\n",
    "    \n",
    "    plt.plot(xs, ys, 'r-')\n",
    "    \n",
    "    plt.xlabel(\"Generated number\")\n",
    "    plt.ylabel(\"Amount generated\")\n",
    "    plt.show()\n",
    "    \n",
    "problem_1_4()"
   ]
  },
  {
   "cell_type": "markdown",
   "metadata": {
    "deletable": true,
    "editable": true
   },
   "source": [
    "### Question 5\n",
    "\n",
    "It can be seen in the plot below, and it is also calculated in the code below, the numerical value is 1.22.\n",
    "\n",
    "Going from x=1.22 straight up, it intersects the pdf around 0.9, this means that the probability of a single random value being less than this percentile is about 90%."
   ]
  },
  {
   "cell_type": "code",
   "execution_count": 80,
   "metadata": {
    "collapsed": false,
    "deletable": true,
    "editable": true
   },
   "outputs": [
    {
     "name": "stdout",
     "output_type": "stream",
     "text": [
      "Intersection cdf(x) and y=0.75: 1.22 0.74628226548\n"
     ]
    },
    {
     "data": {
      "image/png": "[encoded data removed]",
      "text/plain": [
       "<matplotlib.figure.Figure at 0x7f4912d70550>"
      ]
     },
     "metadata": {},
     "output_type": "display_data"
    }
   ],
   "source": [
    "def find_intersection(f, g, start=0.01, end=3.0, step=0.01):\n",
    "    xs = np.arange(start, end, step)\n",
    "    fs = f(xs)\n",
    "    gs = g(xs)\n",
    "    \n",
    "    idx = np.argmin(np.abs(fs - gs))\n",
    "    return xs[idx], fs[idx]\n",
    "\n",
    "def problem_1_5():\n",
    "    mu = 0\n",
    "    sigma = 0.3\n",
    "    \n",
    "    def lognorm_pdf(x):\n",
    "        return (1/(x * sigma * ((2 * math.pi) ** 0.5))) * math.e ** \\\n",
    "            (-1 * (((np.log(x) - mu) ** 2) / (2 * (sigma ** 2))))\n",
    "    \n",
    "    def lognorm_cdf(x):\n",
    "        return 0.5 + 0.5 * erf((np.log(x) - mu) / ((2 ** 0.5) * sigma))\n",
    "    \n",
    "    xs = np.linspace(0.1, 3.0, 100)\n",
    "    ys = lognorm_cdf(xs)\n",
    "    ys2 = lognorm_pdf(xs)\n",
    "    \n",
    "    x1, y1 = find_intersection(lognorm_cdf, lambda x: 0.75)\n",
    "    print('Intersection cdf(x) and y=0.75:', x1, y1)\n",
    "    \n",
    "    plt.plot(x1, y1, 'go')\n",
    "    plt.plot(xs, ys, 'r-', xs, ys2, 'b-')\n",
    "    plt.axhline(y=0.75, color='orange')\n",
    "    plt.legend(['Intersection', 'cdf(x)', 'pdf(x)', 'y=0.75'])\n",
    "    \n",
    "    plt.show()\n",
    "    \n",
    "problem_1_5()"
   ]
  },
  {
   "cell_type": "markdown",
   "metadata": {
    "deletable": true,
    "editable": true
   },
   "source": [
    "## Question 6"
   ]
  },
  {
   "cell_type": "code",
   "execution_count": 84,
   "metadata": {
    "collapsed": true,
    "deletable": true,
    "editable": true
   },
   "outputs": [],
   "source": [
    "p16_samples = [[randlognorm() for x in range(10 ** 3)] for y in range(10 ** 4)]\n"
   ]
  },
  {
   "cell_type": "code",
   "execution_count": 105,
   "metadata": {
    "collapsed": true,
    "deletable": true,
    "editable": true
   },
   "outputs": [],
   "source": [
    "p16_percentiles = []\n",
    "for samples in p16_samples:\n",
    "    p16_percentiles.append(percentile(samples, 0.75))"
   ]
  },
  {
   "cell_type": "code",
   "execution_count": 115,
   "metadata": {
    "collapsed": false,
    "deletable": true,
    "editable": true
   },
   "outputs": [
    {
     "name": "stdout",
     "output_type": "stream",
     "text": [
      "Mean = 1.22403713966 Stddev = 0.0157779360067\n",
      "Bounds: 1.19248126765 -- 1.25559301168\n"
     ]
    },
    {
     "data": {
      "image/png": "[encoded data removed]",
      "text/plain": [
       "<matplotlib.figure.Figure at 0x7f49155a0278>"
      ]
     },
     "metadata": {},
     "output_type": "display_data"
    }
   ],
   "source": [
    "def calc_mean(l):\n",
    "    total = 0\n",
    "    \n",
    "    for num in l:\n",
    "        total += num\n",
    "        \n",
    "    return total / len(l)\n",
    "\n",
    "def calc_stddev(l):\n",
    "    mean = calc_mean(l)\n",
    "    diff = [(i - mean) ** 2 for i in l]\n",
    "    return (sum(diff) / len(l)) ** 0.5\n",
    "\n",
    "\n",
    "def problem_1_6():\n",
    "    lower_bound = percentile(p16_percentiles, 0.025)\n",
    "    upper_bound = percentile(p16_percentiles, 0.975)\n",
    "    mean = calc_mean(p16_percentiles)\n",
    "    stddev = calc_stddev(p16_percentiles)\n",
    "    print('Mean =', mean, 'Stddev =', stddev)\n",
    "    print('Bounds:', mean - 2 * stddev, '--', mean + 2 * stddev)\n",
    "    \n",
    "    plt.axvline(x=lower_bound, color='orange')\n",
    "    plt.axvline(x=upper_bound, color='red')\n",
    "    plt.axvline(x=mean, color='green')\n",
    "    plt.legend(['Lower', 'Upper', 'Mean'])\n",
    "\n",
    "    plt.hist(p16_percentiles, 100)\n",
    "\n",
    "    plt.show()\n",
    "    \n",
    "problem_1_6()"
   ]
  },
  {
   "cell_type": "markdown",
   "metadata": {
    "deletable": true,
    "editable": true
   },
   "source": [
    "The computed mean is 1.22 and the computed standard deviation is 0.16, which gives the theoretical lower bound of $\\mu - 2\\sigma = 1.22 - 2 * 0.016 = 1.19$, and an upper bound of $\\mu + 2\\sigma = 1.22 + 2 * 0.016 = 1.25$\n",
    "\n",
    "The theoretical values are almost the same as the experimental values, this is because we have a sufficient sample size."
   ]
  },
  {
   "cell_type": "code",
   "execution_count": null,
   "metadata": {
    "collapsed": true,
    "deletable": true,
    "editable": true
   },
   "outputs": [],
   "source": []
  },
  {
   "cell_type": "markdown",
   "metadata": {
    "deletable": true,
    "editable": true
   },
   "source": [
    "## Problem 2\n",
    "\n",
    "### Question 1\n",
    "\n",
    "\n",
    "### Question 2\n",
    "If you don't replace the sample you just took from your sample set, your sample set will decrease in size and you will keep all the same properties of the original sample set. By replacing you're creating a 'different' sample set from the orginal sample set.\n",
    "\n",
    "### Question 3"
   ]
  },
  {
   "cell_type": "code",
   "execution_count": 154,
   "metadata": {
    "collapsed": true,
    "deletable": true,
    "editable": true
   },
   "outputs": [],
   "source": [
    "def problem_2_3_create_samples():\n",
    "    mu = 0\n",
    "    sigma = 0.9\n",
    "\n",
    "    n = 10 ** 2\n",
    "    N = 10 ** 5\n",
    "    l = [randlognorm(mu, sigma) for i in range (0, n)]\n",
    "        \n",
    "    bootstrap = [calc_mean(np.random.choice(l, n, replace=True)) \n",
    "                   for i in range(N)]\n",
    "    \n",
    "    theory = [calc_mean([randlognorm(mu, sigma) for x in range(n)]) \n",
    "                  for y in range(N)]\n",
    "    \n",
    "    return bootstrap, theory\n",
    "\n",
    "\n",
    "\n",
    "p23_boot, p23_theory = problem_2_3_create_samples()"
   ]
  },
  {
   "cell_type": "code",
   "execution_count": 185,
   "metadata": {
    "collapsed": false,
    "deletable": true,
    "editable": true,
    "scrolled": true
   },
   "outputs": [
    {
     "data": {
      "image/png": "[encoded data removed]",
      "text/plain": [
       "<matplotlib.figure.Figure at 0x7f4900f22a58>"
      ]
     },
     "metadata": {},
     "output_type": "display_data"
    },
    {
     "data": {
      "image/png": "[encoded data removed]",
      "text/plain": [
       "<matplotlib.figure.Figure at 0x7f4901a1e4a8>"
      ]
     },
     "metadata": {},
     "output_type": "display_data"
    }
   ],
   "source": [
    "def problem_2_3():\n",
    "    def pdf(x, mu, sigma):\n",
    "        return (1 / (sigma * ((2 * math.pi) ** 0.5))) \\\n",
    "            * (math.e ** ((-0.5) * (((x - mu) / sigma) ** 2)))\n",
    "    \n",
    "    xs = np.linspace(0.1, 2.5, 100)\n",
    "    ys = pdf(xs, 1.47, 0.2)\n",
    "    \n",
    "    mean1 = calc_mean(p23_boot)\n",
    "    stddev1 = calc_stddev(p23_boot)\n",
    "    lower1 = mean1 - (2 * stddev1)\n",
    "    upper1 = mean1 + (2 * stddev1)\n",
    "    \n",
    "    plt.hist(p23_boot, 100, normed=True)\n",
    "\n",
    "    plt.axvline(x=lower1, color='orange')\n",
    "    plt.axvline(x=upper1, color='red')\n",
    "    plt.axvline(x=mean1, color='green')\n",
    "    plt.plot(xs, ys, 'b-')\n",
    "    plt.legend(['Lower', 'Upper', 'Mean', 'Fitted'])\n",
    "    \n",
    "    plt.title('Histogram of bootstrapped sample')\n",
    "    plt.show()\n",
    "    \n",
    "    mean2 = calc_mean(p23_theory)\n",
    "    stddev2 = calc_stddev(p23_theory)\n",
    "    lower2 = mean2 - (2 * stddev2)\n",
    "    upper2 = mean2 + (2 * stddev2)\n",
    "    \n",
    "    plt.axvline(x=lower2, color='orange')\n",
    "    plt.axvline(x=upper2, color='red')\n",
    "    plt.axvline(x=mean2, color='green')\n",
    "    plt.plot(xs, ys, 'b-')\n",
    "    plt.legend(['Lower', 'Upper', 'Mean', 'Fitted'])\n",
    "\n",
    "    plt.title('Histogram of theory sample')\n",
    "    plt.hist(p23_theory, 100, normed=True)\n",
    "    plt.show()\n",
    "\n",
    "\n",
    "problem_2_3()"
   ]
  },
  {
   "cell_type": "markdown",
   "metadata": {
    "deletable": true,
    "editable": true
   },
   "source": [
    "### Question 4\n",
    "\n",
    "According to the central limit theorem (practically) every type of distribution can become a normal distribution when you take certain properties (like mean or sum), for a randomly sampled data set of the original distribution. From question 3 we can see this also works for a bootstrapped data set.\n",
    "\n",
    "### Question 5\n",
    "When you take the modulo of the mean with a certain number, the resultitng distribution won't be a normal distribution.\n",
    "In this example I take the means with module 0.5."
   ]
  },
  {
   "cell_type": "code",
   "execution_count": 200,
   "metadata": {
    "collapsed": false,
    "deletable": true,
    "editable": true
   },
   "outputs": [
    {
     "data": {
      "image/png": "[encoded data removed]",
      "text/plain": [
       "<matplotlib.figure.Figure at 0x7f4900d732b0>"
      ]
     },
     "metadata": {},
     "output_type": "display_data"
    }
   ],
   "source": [
    "def problem_2_5():\n",
    "    new = np.array(p23_boot) % 0.5\n",
    "    mean1 = calc_mean(new)\n",
    "    \n",
    "    plt.hist(new, 100)\n",
    "\n",
    "    plt.axvline(x=mean1, color='green')\n",
    "    plt.legend(['Mean'])\n",
    "    \n",
    "    plt.title('Histogram of bootstrapped sample')\n",
    "    plt.show()\n",
    "\n",
    "problem_2_5()"
   ]
  },
  {
   "cell_type": "code",
   "execution_count": null,
   "metadata": {
    "collapsed": true,
    "deletable": true,
    "editable": true
   },
   "outputs": [],
   "source": []
  }
 ],
 "metadata": {
  "kernelspec": {
   "display_name": "Python 3",
   "language": "python",
   "name": "python3"
  },
  "language_info": {
   "codemirror_mode": {
    "name": "ipython",
    "version": 3
   },
   "file_extension": ".py",
   "mimetype": "text/x-python",
   "name": "python",
   "nbconvert_exporter": "python",
   "pygments_lexer": "ipython3",
   "version": "3.5.2"
  }
 },
 "nbformat": 4,
 "nbformat_minor": 2
}

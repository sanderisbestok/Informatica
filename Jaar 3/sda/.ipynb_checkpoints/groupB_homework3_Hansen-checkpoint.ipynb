{
 "cells": [
  {
   "cell_type": "markdown",
   "metadata": {
    "deletable": true,
    "editable": true
   },
   "source": [
    "# Lab 1"
   ]
  },
  {
   "cell_type": "code",
   "execution_count": 1,
   "metadata": {
    "collapsed": true,
    "deletable": true,
    "editable": true
   },
   "outputs": [],
   "source": [
    "import numpy as np\n",
    "import scipy.special as sp\n",
    "import matplotlib.pyplot as plt\n",
    "import csv\n",
    "import scipy.stats as st\n",
    "from scipy.optimize import minimize\n",
    "import math"
   ]
  },
  {
   "cell_type": "markdown",
   "metadata": {
    "deletable": true,
    "editable": true
   },
   "source": [
    "## Problem 1\n",
    "\n",
    "### Question 1"
   ]
  },
  {
   "cell_type": "code",
   "execution_count": 106,
   "metadata": {
    "collapsed": false,
    "deletable": true,
    "editable": true
   },
   "outputs": [],
   "source": [
    "def randpair(mu_x, sigma_x, alpha, beta, sigma_y_x):\n",
    "    X = np.random.normal(mu_x, sigma_x)\n",
    "    Y = np.random.normal((alpha + beta * X), sigma_y_x)\n",
    "    \n",
    "    return (X, Y)"
   ]
  },
  {
   "cell_type": "markdown",
   "metadata": {
    "deletable": true,
    "editable": true
   },
   "source": [
    "### Question 2"
   ]
  },
  {
   "cell_type": "code",
   "execution_count": 112,
   "metadata": {
    "collapsed": false,
    "deletable": true,
    "editable": true
   },
   "outputs": [
    {
     "data": {
      "image/png": "[encoded data removed]",
      "text/plain": [
       "<matplotlib.figure.Figure at 0x7f5d0f3f42b0>"
      ]
     },
     "metadata": {},
     "output_type": "display_data"
    }
   ],
   "source": [
    "n = 10**3\n",
    "\n",
    "pairs = [(randpair(0, 1, 0, 2, 1.25)) for x in range(0, n)]\n",
    "x = np.linspace(-3,3)\n",
    "y = 0 + 2 * x\n",
    "\n",
    "plt.plot(x, y, color=\"r\")\n",
    "\n",
    "plt.scatter(np.array(pairs)[...,0], np.array(pairs)[...,1])\n",
    "plt.show()"
   ]
  },
  {
   "cell_type": "markdown",
   "metadata": {
    "deletable": true,
    "editable": true
   },
   "source": [
    "### Question 3\n",
    "\n",
    "$$Pr(\\vec{S}|\\hat{\\alpha},\\hat{\\beta},\\hat{\\sigma_{Y|X}}) = Pr(\\vec{X},\\vec{Y}|\\hat{\\alpha},\\hat{\\beta},\\hat{\\sigma_{Y|X}})$$\n",
    "$$Pr(\\hat{Y}|\\vec{X},\\hat{\\alpha},\\hat{\\beta},\\hat{\\sigma})*Pr(\\vec{X}|\\hat{\\alpha},\\hat{\\beta},\\hat{\\sigma})$$\n",
    "\n",
    "Because the second part of the formula is constant it can be left out, and we can say:\n",
    "$$\\log L(\\vec{Y}|\\vec{X}, \\hat{\\alpha},\\hat{\\beta},\\hat{\\sigma})$$"
   ]
  },
  {
   "cell_type": "markdown",
   "metadata": {
    "deletable": true,
    "editable": true
   },
   "source": [
    "### Question 4\n",
    "\n",
    "We need to make the assumption that $x_{i+1}$ is independent from $x_i$. If we make this assumption we can say:\n",
    "$$\\log L(\\vec{Y}|\\vec{X}, \\hat{\\alpha},\\hat{\\beta},\\hat{\\sigma}) = \\sum_i logL(y_i|x_i,\\alpha,\\beta,\\sigma)$$"
   ]
  },
  {
   "cell_type": "markdown",
   "metadata": {
    "deletable": true,
    "editable": true
   },
   "source": [
    "### Question 5"
   ]
  },
  {
   "cell_type": "code",
   "execution_count": 4,
   "metadata": {
    "collapsed": false,
    "deletable": true,
    "editable": true
   },
   "outputs": [
    {
     "name": "stdout",
     "output_type": "stream",
     "text": [
      "-1609.6372799\n"
     ]
    }
   ],
   "source": [
    "def loglikelihood_lrm(alpha, beta, sigma_y, sample):\n",
    "    result = 0\n",
    "    \n",
    "    for i in range(len(sample)):\n",
    "        mu = alpha + (beta * sample[i][0])\n",
    "        \n",
    "        result += np.log(1/(np.sqrt(2*np.pi*sigma_y**2))) - ((sample[i][1] - mu)**2)/(2*sigma_y**2)\n",
    "    \n",
    "    return result\n",
    "\n",
    "print(loglikelihood_lrm(0, 2, 1.25, pairs))"
   ]
  },
  {
   "cell_type": "markdown",
   "metadata": {
    "deletable": true,
    "editable": true
   },
   "source": [
    "### Question 6"
   ]
  },
  {
   "cell_type": "code",
   "execution_count": 120,
   "metadata": {
    "collapsed": false,
    "deletable": true,
    "editable": true
   },
   "outputs": [],
   "source": [
    "def fit_lrm2(sample):\n",
    "    alpha = 0\n",
    "    beta = 0\n",
    "    sigma_y = 0\n",
    "    lll = []\n",
    "    parameters = []\n",
    "    \n",
    "    for i in range (0, 1000):\n",
    "        parameters.append(np.random.uniform(0, 2, 3))\n",
    "        lll.append(loglikelihood_lrm(parameters[i][0], parameters[i][1], parameters[i][2], pairs))\n",
    "    \n",
    "    return lll, parameters"
   ]
  },
  {
   "cell_type": "markdown",
   "metadata": {
    "deletable": true,
    "editable": true
   },
   "source": [
    "### Question 7"
   ]
  },
  {
   "cell_type": "code",
   "execution_count": 6,
   "metadata": {
    "collapsed": false,
    "deletable": true,
    "editable": true
   },
   "outputs": [
    {
     "name": "stdout",
     "output_type": "stream",
     "text": [
      "0\n",
      "1\n",
      "2\n",
      "3\n",
      "4\n",
      "5\n",
      "6\n",
      "7\n",
      "8\n",
      "9\n",
      "10\n",
      "11\n",
      "12\n",
      "13\n",
      "14\n",
      "15\n",
      "16\n",
      "17\n",
      "18\n",
      "19\n",
      "20\n",
      "21\n",
      "22\n",
      "23\n",
      "24\n",
      "25\n",
      "26\n",
      "27\n",
      "28\n",
      "29\n",
      "30\n",
      "31\n",
      "32\n",
      "33\n",
      "34\n",
      "35\n",
      "36\n",
      "37\n",
      "38\n",
      "39\n",
      "40\n",
      "41\n",
      "42\n",
      "43\n",
      "44\n",
      "45\n",
      "46\n",
      "47\n",
      "48\n",
      "49\n",
      "50\n",
      "51\n",
      "52\n",
      "53\n",
      "54\n",
      "55\n",
      "56\n",
      "57\n",
      "58\n",
      "59\n",
      "60\n",
      "61\n",
      "62\n",
      "63\n",
      "64\n",
      "65\n",
      "66\n",
      "67\n",
      "68\n",
      "69\n",
      "70\n",
      "71\n",
      "72\n",
      "73\n",
      "74\n",
      "75\n",
      "76\n",
      "77\n",
      "78\n",
      "79\n",
      "80\n",
      "81\n",
      "82\n",
      "83\n",
      "84\n",
      "85\n",
      "86\n",
      "87\n",
      "88\n",
      "89\n",
      "90\n",
      "91\n",
      "92\n",
      "93\n",
      "94\n",
      "95\n",
      "96\n",
      "97\n",
      "98\n",
      "99\n",
      "100\n",
      "101\n",
      "102\n",
      "103\n",
      "104\n",
      "105\n",
      "106\n",
      "107\n",
      "108\n",
      "109\n",
      "110\n",
      "111\n",
      "112\n",
      "113\n",
      "114\n",
      "115\n",
      "116\n",
      "117\n",
      "118\n",
      "119\n",
      "120\n",
      "121\n",
      "122\n",
      "123\n",
      "124\n",
      "125\n",
      "126\n",
      "127\n",
      "128\n",
      "129\n",
      "130\n",
      "131\n",
      "132\n",
      "133\n",
      "134\n",
      "135\n",
      "136\n",
      "137\n",
      "138\n",
      "139\n",
      "140\n",
      "141\n",
      "142\n",
      "143\n",
      "144\n",
      "145\n",
      "146\n",
      "147\n",
      "148\n",
      "149\n",
      "150\n",
      "151\n",
      "152\n",
      "153\n",
      "154\n",
      "155\n",
      "156\n",
      "157\n",
      "158\n",
      "159\n",
      "160\n",
      "161\n",
      "162\n",
      "163\n",
      "164\n",
      "165\n",
      "166\n",
      "167\n",
      "168\n",
      "169\n",
      "170\n",
      "171\n",
      "172\n",
      "173\n",
      "174\n",
      "175\n",
      "176\n",
      "177\n",
      "178\n",
      "179\n",
      "180\n",
      "181\n",
      "182\n",
      "183\n",
      "184\n",
      "185\n",
      "186\n",
      "187\n",
      "188\n",
      "189\n",
      "190\n",
      "191\n",
      "192\n",
      "193\n",
      "194\n",
      "195\n",
      "196\n",
      "197\n",
      "198\n",
      "199\n",
      "200\n",
      "201\n",
      "202\n",
      "203\n",
      "204\n",
      "205\n",
      "206\n",
      "207\n",
      "208\n",
      "209\n",
      "210\n",
      "211\n",
      "212\n",
      "213\n",
      "214\n",
      "215\n",
      "216\n",
      "217\n",
      "218\n",
      "219\n",
      "220\n",
      "221\n",
      "222\n",
      "223\n",
      "224\n",
      "225\n",
      "226\n",
      "227\n",
      "228\n",
      "229\n",
      "230\n",
      "231\n",
      "232\n",
      "233\n",
      "234\n",
      "235\n",
      "236\n",
      "237\n",
      "238\n",
      "239\n",
      "240\n",
      "241\n",
      "242\n",
      "243\n",
      "244\n",
      "245\n",
      "246\n",
      "247\n",
      "248\n",
      "249\n",
      "250\n",
      "251\n",
      "252\n",
      "253\n",
      "254\n",
      "255\n",
      "256\n",
      "257\n",
      "258\n",
      "259\n",
      "260\n",
      "261\n",
      "262\n",
      "263\n",
      "264\n",
      "265\n",
      "266\n",
      "267\n",
      "268\n",
      "269\n",
      "270\n",
      "271\n",
      "272\n",
      "273\n",
      "274\n",
      "275\n",
      "276\n",
      "277\n",
      "278\n",
      "279\n",
      "280\n",
      "281\n",
      "282\n",
      "283\n",
      "284\n",
      "285\n",
      "286\n",
      "287\n",
      "288\n",
      "289\n",
      "290\n",
      "291\n",
      "292\n",
      "293\n",
      "294\n",
      "295\n",
      "296\n",
      "297\n",
      "298\n",
      "299\n",
      "300\n",
      "301\n",
      "302\n",
      "303\n",
      "304\n",
      "305\n",
      "306\n",
      "307\n",
      "308\n",
      "309\n",
      "310\n",
      "311\n",
      "312\n",
      "313\n",
      "314\n",
      "315\n",
      "316\n",
      "317\n",
      "318\n",
      "319\n",
      "320\n",
      "321\n",
      "322\n",
      "323\n",
      "324\n",
      "325\n",
      "326\n",
      "327\n",
      "328\n",
      "329\n",
      "330\n",
      "331\n",
      "332\n",
      "333\n",
      "334\n",
      "335\n",
      "336\n",
      "337\n",
      "338\n",
      "339\n",
      "340\n",
      "341\n",
      "342\n",
      "343\n",
      "344\n",
      "345\n",
      "346\n",
      "347\n",
      "348\n",
      "349\n",
      "350\n",
      "351\n",
      "352\n",
      "353\n",
      "354\n",
      "355\n",
      "356\n",
      "357\n",
      "358\n",
      "359\n",
      "360\n",
      "361\n",
      "362\n",
      "363\n",
      "364\n",
      "365\n",
      "366\n",
      "367\n",
      "368\n",
      "369\n",
      "370\n",
      "371\n",
      "372\n",
      "373\n",
      "374\n",
      "375\n",
      "376\n",
      "377\n",
      "378\n",
      "379\n",
      "380\n",
      "381\n",
      "382\n",
      "383\n",
      "384\n",
      "385\n",
      "386\n",
      "387\n",
      "388\n",
      "389\n",
      "390\n",
      "391\n",
      "392\n",
      "393\n",
      "394\n",
      "395\n",
      "396\n",
      "397\n",
      "398\n",
      "399\n",
      "400\n",
      "401\n",
      "402\n",
      "403\n",
      "404\n",
      "405\n",
      "406\n",
      "407\n",
      "408\n",
      "409\n",
      "410\n",
      "411\n",
      "412\n",
      "413\n",
      "414\n",
      "415\n",
      "416\n",
      "417\n",
      "418\n",
      "419\n",
      "420\n",
      "421\n",
      "422\n",
      "423\n",
      "424\n",
      "425\n",
      "426\n",
      "427\n",
      "428\n",
      "429\n",
      "430\n",
      "431\n",
      "432\n",
      "433\n",
      "434\n",
      "435\n",
      "436\n",
      "437\n",
      "438\n",
      "439\n",
      "440\n",
      "441\n",
      "442\n",
      "443\n",
      "444\n",
      "445\n",
      "446\n",
      "447\n",
      "448\n",
      "449\n",
      "450\n",
      "451\n",
      "452\n",
      "453\n",
      "454\n",
      "455\n",
      "456\n",
      "457\n",
      "458\n",
      "459\n",
      "460\n",
      "461\n",
      "462\n",
      "463\n",
      "464\n",
      "465\n",
      "466\n",
      "467\n",
      "468\n",
      "469\n",
      "470\n",
      "471\n",
      "472\n",
      "473\n",
      "474\n",
      "475\n",
      "476\n",
      "477\n",
      "478\n",
      "479\n",
      "480\n",
      "481\n",
      "482\n",
      "483\n",
      "484\n",
      "485\n",
      "486\n",
      "487\n",
      "488\n",
      "489\n",
      "490\n",
      "491\n",
      "492\n",
      "493\n",
      "494\n",
      "495\n",
      "496\n",
      "497\n",
      "498\n",
      "499\n",
      "500\n",
      "501\n",
      "502\n",
      "503\n",
      "504\n",
      "505\n",
      "506\n",
      "507\n",
      "508\n",
      "509\n",
      "510\n",
      "511\n",
      "512\n",
      "513\n",
      "514\n",
      "515\n",
      "516\n",
      "517\n",
      "518\n",
      "519\n",
      "520\n",
      "521\n",
      "522\n",
      "523\n",
      "524\n",
      "525\n",
      "526\n",
      "527\n",
      "528\n",
      "529\n",
      "530\n",
      "531\n",
      "532\n",
      "533\n",
      "534\n",
      "535\n",
      "536\n",
      "537\n",
      "538\n",
      "539\n",
      "540\n",
      "541\n",
      "542\n",
      "543\n",
      "544\n",
      "545\n",
      "546\n",
      "547\n",
      "548\n",
      "549\n",
      "550\n",
      "551\n",
      "552\n",
      "553\n",
      "554\n",
      "555\n",
      "556\n",
      "557\n",
      "558\n",
      "559\n",
      "560\n",
      "561\n",
      "562\n",
      "563\n",
      "564\n",
      "565\n",
      "566\n",
      "567\n",
      "568\n",
      "569\n",
      "570\n",
      "571\n",
      "572\n",
      "573\n",
      "574\n",
      "575\n",
      "576\n",
      "577\n",
      "578\n",
      "579\n",
      "580\n",
      "581\n",
      "582\n",
      "583\n",
      "584\n",
      "585\n",
      "586\n",
      "587\n",
      "588\n",
      "589\n",
      "590\n",
      "591\n",
      "592\n",
      "593\n",
      "594\n",
      "595\n",
      "596\n",
      "597\n",
      "598\n",
      "599\n",
      "600\n",
      "601\n",
      "602\n",
      "603\n",
      "604\n",
      "605\n",
      "606\n",
      "607\n",
      "608\n",
      "609\n",
      "610\n",
      "611\n",
      "612\n",
      "613\n",
      "614\n",
      "615\n",
      "616\n",
      "617\n",
      "618\n",
      "619\n",
      "620\n",
      "621\n",
      "622\n",
      "623\n",
      "624\n",
      "625\n",
      "626\n",
      "627\n",
      "628\n",
      "629\n",
      "630\n",
      "631\n",
      "632\n",
      "633\n",
      "634\n",
      "635\n",
      "636\n",
      "637\n",
      "638\n",
      "639\n",
      "640\n",
      "641\n",
      "642\n",
      "643\n",
      "644\n",
      "645\n",
      "646\n",
      "647\n",
      "648\n",
      "649\n",
      "650\n",
      "651\n",
      "652\n",
      "653\n",
      "654\n",
      "655\n",
      "656\n",
      "657\n",
      "658\n",
      "659\n",
      "660\n",
      "661\n",
      "662\n",
      "663\n",
      "664\n",
      "665\n",
      "666\n",
      "667\n",
      "668\n",
      "669\n",
      "670\n",
      "671\n",
      "672\n",
      "673\n",
      "674\n",
      "675\n",
      "676\n",
      "677\n",
      "678\n",
      "679\n",
      "680\n",
      "681\n",
      "682\n",
      "683\n",
      "684\n",
      "685\n",
      "686\n",
      "687\n",
      "688\n",
      "689\n",
      "690\n",
      "691\n",
      "692\n",
      "693\n",
      "694\n",
      "695\n",
      "696\n",
      "697\n",
      "698\n",
      "699\n",
      "700\n",
      "701\n",
      "702\n",
      "703\n",
      "704\n",
      "705\n",
      "706\n",
      "707\n",
      "708\n",
      "709\n",
      "710\n",
      "711\n",
      "712\n",
      "713\n",
      "714\n",
      "715\n",
      "716\n",
      "717\n",
      "718\n",
      "719\n",
      "720\n",
      "721\n",
      "722\n",
      "723\n",
      "724\n",
      "725\n",
      "726\n",
      "727\n",
      "728\n",
      "729\n",
      "730\n",
      "731\n",
      "732\n",
      "733\n",
      "734\n",
      "735\n",
      "736\n",
      "737\n",
      "738\n",
      "739\n",
      "740\n",
      "741\n",
      "742\n",
      "743\n",
      "744\n",
      "745\n",
      "746\n",
      "747\n",
      "748\n",
      "749\n",
      "750\n",
      "751\n",
      "752\n",
      "753\n",
      "754\n",
      "755\n",
      "756\n",
      "757\n",
      "758\n",
      "759\n",
      "760\n",
      "761\n",
      "762\n",
      "763\n",
      "764\n",
      "765\n",
      "766\n",
      "767\n",
      "768\n",
      "769\n",
      "770\n",
      "771\n",
      "772\n",
      "773\n",
      "774\n",
      "775\n",
      "776\n",
      "777\n",
      "778\n",
      "779\n",
      "780\n",
      "781\n",
      "782\n",
      "783\n",
      "784\n",
      "785\n",
      "786\n",
      "787\n",
      "788\n",
      "789\n",
      "790\n",
      "791\n",
      "792\n",
      "793\n",
      "794\n",
      "795\n",
      "796\n",
      "797\n",
      "798\n",
      "799\n",
      "800\n",
      "801\n",
      "802\n",
      "803\n",
      "804\n",
      "805\n",
      "806\n",
      "807\n",
      "808\n",
      "809\n",
      "810\n",
      "811\n",
      "812\n",
      "813\n",
      "814\n",
      "815\n",
      "816\n",
      "817\n",
      "818\n",
      "819\n",
      "820\n",
      "821\n",
      "822\n",
      "823\n",
      "824\n",
      "825\n",
      "826\n",
      "827\n",
      "828\n",
      "829\n",
      "830\n",
      "831\n",
      "832\n",
      "833\n",
      "834\n",
      "835\n",
      "836\n",
      "837\n",
      "838\n",
      "839\n",
      "840\n",
      "841\n",
      "842\n",
      "843\n",
      "844\n",
      "845\n",
      "846\n",
      "847\n",
      "848\n",
      "849\n",
      "850\n",
      "851\n",
      "852\n",
      "853\n",
      "854\n",
      "855\n",
      "856\n",
      "857\n",
      "858\n",
      "859\n",
      "860\n",
      "861\n",
      "862\n",
      "863\n",
      "864\n",
      "865\n",
      "866\n",
      "867\n",
      "868\n",
      "869\n",
      "870\n",
      "871\n",
      "872\n",
      "873\n",
      "874\n",
      "875\n",
      "876\n",
      "877\n",
      "878\n",
      "879\n",
      "880\n",
      "881\n",
      "882\n",
      "883\n",
      "884\n",
      "885\n",
      "886\n",
      "887\n",
      "888\n",
      "889\n",
      "890\n",
      "891\n",
      "892\n",
      "893\n",
      "894\n",
      "895\n",
      "896\n",
      "897\n",
      "898\n",
      "899\n",
      "900\n",
      "901\n",
      "902\n",
      "903\n",
      "904\n",
      "905\n",
      "906\n",
      "907\n",
      "908\n",
      "909\n",
      "910\n",
      "911\n",
      "912\n",
      "913\n",
      "914\n",
      "915\n",
      "916\n",
      "917\n",
      "918\n",
      "919\n",
      "920\n",
      "921\n",
      "922\n",
      "923\n",
      "924\n",
      "925\n",
      "926\n",
      "927\n",
      "928\n",
      "929\n",
      "930\n",
      "931\n",
      "932\n",
      "933\n",
      "934\n",
      "935\n",
      "936\n",
      "937\n",
      "938\n",
      "939\n",
      "940\n",
      "941\n",
      "942\n",
      "943\n",
      "944\n",
      "945\n",
      "946\n",
      "947\n",
      "948\n",
      "949\n",
      "950\n",
      "951\n",
      "952\n",
      "953\n",
      "954\n",
      "955\n",
      "956\n",
      "957\n",
      "958\n",
      "959\n",
      "960\n",
      "961\n",
      "962\n",
      "963\n",
      "964\n",
      "965\n",
      "966\n",
      "967\n",
      "968\n",
      "969\n",
      "970\n",
      "971\n",
      "972\n",
      "973\n",
      "974\n",
      "975\n",
      "976\n",
      "977\n",
      "978\n",
      "979\n",
      "980\n",
      "981\n",
      "982\n",
      "983\n",
      "984\n",
      "985\n",
      "986\n",
      "987\n",
      "988\n",
      "989\n",
      "990\n",
      "991\n",
      "992\n",
      "993\n",
      "994\n",
      "995\n",
      "996\n",
      "997\n",
      "998\n",
      "999\n"
     ]
    }
   ],
   "source": [
    "lll, parameters = fit_lrm2(pairs)"
   ]
  },
  {
   "cell_type": "code",
   "execution_count": 7,
   "metadata": {
    "collapsed": false,
    "deletable": true,
    "editable": true
   },
   "outputs": [
    {
     "name": "stdout",
     "output_type": "stream",
     "text": [
      "[ 0.0386048   1.90677366  1.23279011]\n"
     ]
    }
   ],
   "source": [
    "index = lll.index(max(lll))\n",
    "print(parameters[index])"
   ]
  },
  {
   "cell_type": "markdown",
   "metadata": {
    "deletable": true,
    "editable": true
   },
   "source": [
    "The original values are 0, 2, 1.25. So none of my values have a difference bigger then 0.2."
   ]
  },
  {
   "cell_type": "code",
   "execution_count": 8,
   "metadata": {
    "collapsed": false,
    "deletable": true,
    "editable": true
   },
   "outputs": [],
   "source": [
    "def fit_lrm(sample):\n",
    "    optres = minimize(lambda tup: -loglikelihood_lrm(*tup, sample=sample), (0, 0, 1), bounds=((None, None), (None, None), (0.001, None)))\n",
    "    return optres.x\n",
    "\n",
    "parameter = fit_lrm(pairs)"
   ]
  },
  {
   "cell_type": "markdown",
   "metadata": {
    "deletable": true,
    "editable": true
   },
   "source": [
    "### Question 8"
   ]
  },
  {
   "cell_type": "code",
   "execution_count": 9,
   "metadata": {
    "collapsed": true,
    "deletable": true,
    "editable": true
   },
   "outputs": [],
   "source": [
    "def calc_mean(x):\n",
    "    return sum(x) / len(x)\n",
    "\n",
    "\n",
    "def standard_deviation(x):\n",
    "    square = 0\n",
    "    mean = calc_mean(x)\n",
    "    \n",
    "    for i in x:\n",
    "        square += (i - mean)**2 \n",
    "    \n",
    "    return np.sqrt(square / len(x))"
   ]
  },
  {
   "cell_type": "code",
   "execution_count": 10,
   "metadata": {
    "collapsed": false,
    "deletable": true,
    "editable": true
   },
   "outputs": [],
   "source": [
    "X = [i[0] for i in pairs]\n",
    "\n",
    "mu_x = calc_mean(X)\n",
    "sigma_x = standard_deviation(X)\n",
    "alpha = parameter [0]\n",
    "beta = parameter[1]\n",
    "sigma_y = parameter[2]"
   ]
  },
  {
   "cell_type": "code",
   "execution_count": 11,
   "metadata": {
    "collapsed": false,
    "deletable": true,
    "editable": true
   },
   "outputs": [],
   "source": [
    "n = 10**3\n",
    "N = 10**3\n",
    "samples = []\n",
    "\n",
    "for i in range (0, N):\n",
    "    samples.append([(randpair(mu_x, sigma_x, alpha, beta, sigma_y)) for x in range(0, n)])"
   ]
  },
  {
   "cell_type": "code",
   "execution_count": 12,
   "metadata": {
    "collapsed": false,
    "deletable": true,
    "editable": true
   },
   "outputs": [],
   "source": [
    "estimations = []\n",
    "\n",
    "for i in range(0, N):\n",
    "    estimations.append(fit_lrm(samples[i]))"
   ]
  },
  {
   "cell_type": "code",
   "execution_count": 13,
   "metadata": {
    "collapsed": true,
    "deletable": true,
    "editable": true
   },
   "outputs": [],
   "source": [
    "def percentile(values, alpha):\n",
    "    values = np.sort(values)\n",
    "    k = alpha * (len(values) - 1)\n",
    "    kceil = math.ceil(k)\n",
    "    kfloor = math.floor(k)\n",
    "    \n",
    "    return ((values[kfloor] * (kceil - k)) + (values[kceil] * (k - kfloor))) "
   ]
  },
  {
   "cell_type": "code",
   "execution_count": 14,
   "metadata": {
    "collapsed": false,
    "deletable": true,
    "editable": true
   },
   "outputs": [],
   "source": [
    "alphas = np.array(estimations)[...,0]\n",
    "betas = np.array(estimations)[...,1]\n",
    "sigmas = np.array(estimations)[...,2]\n",
    "alpha_mean = calc_mean(alphas)\n",
    "beta_mean = calc_mean(betas)\n",
    "sigma_mean = calc_mean(sigmas)"
   ]
  },
  {
   "cell_type": "code",
   "execution_count": 15,
   "metadata": {
    "collapsed": false,
    "deletable": true,
    "editable": true
   },
   "outputs": [
    {
     "data": {
      "image/png": "[encoded data removed]",
      "text/plain": [
       "<matplotlib.figure.Figure at 0x7f5d15f2c470>"
      ]
     },
     "metadata": {},
     "output_type": "display_data"
    },
    {
     "name": "stdout",
     "output_type": "stream",
     "text": [
      "0.0815349241604\n",
      "-0.0770035912078\n"
     ]
    }
   ],
   "source": [
    "uppera = percentile(alphas, 0.025)\n",
    "lowera = percentile(alphas, 0.975)\n",
    "plt.axvline(uppera, color=\"r\")\n",
    "plt.axvline(lowera, color=\"r\")\n",
    "plt.hist(alphas, 50)\n",
    "plt.title(\"Alpha values\")\n",
    "plt.show()\n",
    "print(lowera)\n",
    "print(uppera)"
   ]
  },
  {
   "cell_type": "code",
   "execution_count": 16,
   "metadata": {
    "collapsed": false,
    "deletable": true,
    "editable": true
   },
   "outputs": [
    {
     "data": {
      "image/png": "[encoded data removed]",
      "text/plain": [
       "<matplotlib.figure.Figure at 0x7f5d0d23c978>"
      ]
     },
     "metadata": {},
     "output_type": "display_data"
    },
    {
     "name": "stdout",
     "output_type": "stream",
     "text": [
      "2.13078354494\n",
      "1.97214347295\n"
     ]
    }
   ],
   "source": [
    "upperb = percentile(betas, 0.025)\n",
    "lowerb = percentile(betas, 0.975)\n",
    "plt.axvline(upperb, color=\"r\")\n",
    "plt.axvline(lowerb, color=\"r\")\n",
    "plt.hist(betas, 50)\n",
    "plt.title(\"Beta values\")\n",
    "plt.show()\n",
    "print(lowerb)\n",
    "print(upperb)"
   ]
  },
  {
   "cell_type": "code",
   "execution_count": 17,
   "metadata": {
    "collapsed": false,
    "deletable": true,
    "editable": true
   },
   "outputs": [
    {
     "data": {
      "image/png": "[encoded data removed]",
      "text/plain": [
       "<matplotlib.figure.Figure at 0x7f5d1c709f28>"
      ]
     },
     "metadata": {},
     "output_type": "display_data"
    },
    {
     "name": "stdout",
     "output_type": "stream",
     "text": [
      "1.25672483739\n",
      "1.15394522847\n"
     ]
    }
   ],
   "source": [
    "uppers = percentile(sigmas, 0.025)\n",
    "lowers = percentile(sigmas, 0.975)\n",
    "plt.axvline(uppers, color=\"r\")\n",
    "plt.axvline(lowers, color=\"r\")\n",
    "plt.hist(sigmas, 50)\n",
    "plt.title(\"Sigma values\")\n",
    "plt.show()\n",
    "print(lowers)\n",
    "print(uppers)"
   ]
  },
  {
   "cell_type": "markdown",
   "metadata": {
    "deletable": true,
    "editable": true
   },
   "source": [
    "No a slope of $\\beta=0$ is not plausible it is not in the range of the confidence interval."
   ]
  },
  {
   "cell_type": "markdown",
   "metadata": {
    "deletable": true,
    "editable": true
   },
   "source": [
    "### Question 9"
   ]
  },
  {
   "cell_type": "code",
   "execution_count": 18,
   "metadata": {
    "collapsed": false,
    "deletable": true,
    "editable": true
   },
   "outputs": [],
   "source": [
    "n = 3\n",
    "N = 10**3\n",
    "samples = []\n",
    "\n",
    "for i in range (0, N):\n",
    "    samples.append([(randpair(mu_x, sigma_x, alpha, beta, sigma_y)) for x in range(0, n)])\n",
    "\n",
    "estimations = []\n",
    "\n",
    "for i in range(0, N):\n",
    "    estimations.append(fit_lrm(samples[i]))\n",
    "    \n",
    "betas = np.array(estimations)[...,1]"
   ]
  },
  {
   "cell_type": "code",
   "execution_count": 19,
   "metadata": {
    "collapsed": false,
    "deletable": true,
    "editable": true
   },
   "outputs": [
    {
     "data": {
      "image/png": "[encoded data removed]",
      "text/plain": [
       "<matplotlib.figure.Figure at 0x7f5d0d159cc0>"
      ]
     },
     "metadata": {},
     "output_type": "display_data"
    }
   ],
   "source": [
    "upper = percentile(betas, 0.025)\n",
    "lower = percentile(betas, 0.975)\n",
    "plt.axvline(upper, color=\"r\")\n",
    "plt.axvline(lower, color=\"r\")\n",
    "plt.hist(betas, 50)\n",
    "plt.title(\"Beta values\")\n",
    "plt.show()"
   ]
  },
  {
   "cell_type": "markdown",
   "metadata": {
    "deletable": true,
    "editable": true
   },
   "source": [
    "Yes this time it is possible because it is in the range of the confidence interval. \n",
    "\n",
    "We only fit on three values of alpha beta and sigma. therefor the range is not correct."
   ]
  },
  {
   "cell_type": "markdown",
   "metadata": {
    "deletable": true,
    "editable": true
   },
   "source": [
    "### Question 10"
   ]
  },
  {
   "cell_type": "code",
   "execution_count": 20,
   "metadata": {
    "collapsed": false,
    "deletable": true,
    "editable": true
   },
   "outputs": [],
   "source": [
    "def bootstrap_lrm(sample, n=100, N=1000):\n",
    "    bootstrap_sample_idx = np.random.choice(len(sample), n, replace=True)  \n",
    "    \n",
    "    bootstrap_sample = [sample[i] for i in bootstrap_sample_idx]\n",
    "    \n",
    "    parameter = fit_lrm(bootstrap_sample)\n",
    "\n",
    "    return parameter"
   ]
  },
  {
   "cell_type": "code",
   "execution_count": 21,
   "metadata": {
    "collapsed": false,
    "deletable": true,
    "editable": true
   },
   "outputs": [],
   "source": [
    "bootstrap_par = []\n",
    "\n",
    "for i in range(0, 100):\n",
    "    bootstrap_par.append(bootstrap_lrm(pairs))\n",
    "    \n",
    "alphas = np.array(bootstrap_par)[...,0]\n",
    "betas = np.array(bootstrap_par)[...,1]\n",
    "sigmas = np.array(bootstrap_par)[...,2]\n",
    "\n",
    "buppera = percentile(alphas, 0.025)\n",
    "blowera = percentile(alphas, 0.975)\n",
    "bupperb = percentile(betas, 0.025)\n",
    "blowerb = percentile(betas, 0.975)\n",
    "buppers = percentile(sigmas, 0.025)\n",
    "blowers = percentile(sigmas, 0.975)"
   ]
  },
  {
   "cell_type": "code",
   "execution_count": 22,
   "metadata": {
    "collapsed": false,
    "deletable": true,
    "editable": true
   },
   "outputs": [
    {
     "name": "stdout",
     "output_type": "stream",
     "text": [
      "Non bootstrap (lower-upper-mean)\n",
      "0.274310037609\n",
      "-0.208816702255\n",
      "0.0128106571902\n",
      "\n",
      "2.28675255852\n",
      "1.81227617226\n",
      "2.05839843729\n",
      "\n",
      "1.36573746458\n",
      "1.02718862218\n",
      "1.19002570236\n",
      "\n",
      "Bootstrap (lower-upper-mean)\n",
      "0.0815349241604\n",
      "-0.0770035912078\n",
      "-0.00169657153515\n",
      "\n",
      "2.13078354494\n",
      "1.97214347295\n",
      "2.05437202889\n",
      "\n",
      "1.25672483739\n",
      "1.15394522847\n",
      "1.20701894644\n"
     ]
    }
   ],
   "source": [
    "print(\"Non bootstrap (lower-upper-mean)\")\n",
    "print(blowera)\n",
    "print(buppera)\n",
    "print(calc_mean(alphas))\n",
    "print()\n",
    "print(blowerb)\n",
    "print(bupperb)\n",
    "print(calc_mean(betas))\n",
    "print()\n",
    "print(blowers)\n",
    "print(buppers)\n",
    "print(calc_mean(sigmas))\n",
    "print()\n",
    "\n",
    "print(\"Bootstrap (lower-upper-mean)\")\n",
    "print(lowera)\n",
    "print(uppera)\n",
    "print(alpha_mean)\n",
    "print()\n",
    "print(lowerb)\n",
    "print(upperb)\n",
    "print(beta_mean)\n",
    "print()\n",
    "print(lowers)\n",
    "print(uppers)\n",
    "print(sigma_mean)"
   ]
  },
  {
   "cell_type": "markdown",
   "metadata": {
    "deletable": true,
    "editable": true
   },
   "source": [
    "So they correspond fairly well!"
   ]
  },
  {
   "cell_type": "markdown",
   "metadata": {
    "deletable": true,
    "editable": true
   },
   "source": [
    "### Question 11"
   ]
  },
  {
   "cell_type": "markdown",
   "metadata": {
    "deletable": true,
    "editable": true
   },
   "source": [
    "The relation between x and i is $\\mu_i=\\alpha + \\beta * X_i$. If $\\beta$ is zero we would multiply $X_i$ with 0 so it would become zero. Therefor it won't be of any help with predicting $y_i$ and we don't know the $\\mu$."
   ]
  },
  {
   "cell_type": "markdown",
   "metadata": {
    "deletable": true,
    "editable": true
   },
   "source": [
    "### Question 12\n"
   ]
  },
  {
   "cell_type": "code",
   "execution_count": 23,
   "metadata": {
    "collapsed": true,
    "deletable": true,
    "editable": true
   },
   "outputs": [],
   "source": [
    "def variance(sample):\n",
    "    return 1/len(sample) * np.sum(sample**2-calc_mean(sample)**2)"
   ]
  },
  {
   "cell_type": "code",
   "execution_count": 24,
   "metadata": {
    "collapsed": false,
    "deletable": true,
    "editable": true
   },
   "outputs": [
    {
     "name": "stdout",
     "output_type": "stream",
     "text": [
      "Variance Y\n",
      "5.56790616578\n"
     ]
    }
   ],
   "source": [
    "print(\"Variance Y\")\n",
    "variance_y = variance(np.array(pairs)[...,1]) \n",
    "print(variance_y)"
   ]
  },
  {
   "cell_type": "code",
   "execution_count": 25,
   "metadata": {
    "collapsed": false,
    "deletable": true,
    "editable": true
   },
   "outputs": [
    {
     "name": "stdout",
     "output_type": "stream",
     "text": [
      "Variance Y-(a+b*X)\n",
      "1.46110528667\n"
     ]
    }
   ],
   "source": [
    "alpha = 0\n",
    "beta = 2\n",
    "\n",
    "print(\"Variance Y-(a+b*X)\")\n",
    "variance_residuals = variance(np.array(pairs)[...,1] - (alpha + beta * np.array(pairs)[...,0]))\n",
    "print(variance_residuals)"
   ]
  },
  {
   "cell_type": "code",
   "execution_count": 46,
   "metadata": {
    "collapsed": false,
    "deletable": true,
    "editable": true
   },
   "outputs": [
    {
     "name": "stdout",
     "output_type": "stream",
     "text": [
      "Goodness of fit in %\n",
      "73.7584427041\n"
     ]
    }
   ],
   "source": [
    "reduction = (variance_y - variance_residuals) / variance_y * 100\n",
    "print(\"Goodness of fit in %\")\n",
    "print(reduction)"
   ]
  },
  {
   "cell_type": "markdown",
   "metadata": {
    "deletable": true,
    "editable": true
   },
   "source": [
    "### Question 13"
   ]
  },
  {
   "cell_type": "code",
   "execution_count": 41,
   "metadata": {
    "collapsed": false,
    "deletable": true,
    "editable": true
   },
   "outputs": [
    {
     "name": "stdout",
     "output_type": "stream",
     "text": [
      "Goodness of fit with beta -2\n",
      "-213.688657501\n"
     ]
    }
   ],
   "source": [
    "beta = -2\n",
    "\n",
    "variance_residual2 = variance(np.array(pairs)[...,1] - (alpha + beta * np.array(pairs)[...,0]))\n",
    "reduction = (variance_y - variance_residual2) / variance_y * 100\n",
    "print(\"Goodness of fit with beta -2\")\n",
    "print(reduction)"
   ]
  },
  {
   "cell_type": "markdown",
   "metadata": {
    "deletable": true,
    "editable": true
   },
   "source": [
    "The variance now goes up because we have a negative beta."
   ]
  },
  {
   "cell_type": "markdown",
   "metadata": {},
   "source": [
    "### Question 14"
   ]
  },
  {
   "cell_type": "markdown",
   "metadata": {},
   "source": [
    "If we increase the slope from -2 to -3, the goodness of fit will be lower cause it is 'further' away from the real value. Alpha is more directly controlling the goodness of fit because this term is added up to the product of beta and X."
   ]
  },
  {
   "cell_type": "markdown",
   "metadata": {},
   "source": [
    "### Question 15"
   ]
  },
  {
   "cell_type": "code",
   "execution_count": 53,
   "metadata": {
    "collapsed": false
   },
   "outputs": [
    {
     "name": "stdout",
     "output_type": "stream",
     "text": [
      "r=\n",
      "0.859822557981\n",
      "r**2=\n",
      "0.739294831213\n"
     ]
    }
   ],
   "source": [
    "def ppmcoeff(sample):\n",
    "    X = np.array(sample)[...,0]\n",
    "    Y = np.array(sample)[...,1]\n",
    "    \n",
    "    return (np.sum((X*Y))-n*calc_mean(X)*calc_mean(Y))/(len(X)*np.std(X)*np.std(Y))\n",
    "\n",
    "print(\"r=\")\n",
    "print(ppmcoeff(pairs))\n",
    "print(\"r**2=\")\n",
    "print(ppmcoeff(pairs)**2)"
   ]
  },
  {
   "cell_type": "markdown",
   "metadata": {},
   "source": [
    "$r^2$ is very close to our Goodness of fit of 73,75%\n",
    "\n",
    "We report r because then we can see the difference between negative and non negative values."
   ]
  },
  {
   "cell_type": "markdown",
   "metadata": {},
   "source": [
    "### Question 16"
   ]
  },
  {
   "cell_type": "markdown",
   "metadata": {},
   "source": [
    "1. 0% \n",
    "\n",
    "2. 100%\n",
    "\n",
    "3. $R^2$ will decrease"
   ]
  },
  {
   "cell_type": "markdown",
   "metadata": {},
   "source": [
    "## Problem 2\n",
    "\n",
    "### Question 1"
   ]
  },
  {
   "cell_type": "code",
   "execution_count": 145,
   "metadata": {
    "collapsed": false
   },
   "outputs": [],
   "source": [
    "def time_series(mu, sigma, n):\n",
    "    d = np.random.normal(mu, sigma, n)\n",
    "    s = [d[0]]\n",
    "    for i in range(1, len(d)):\n",
    "        s.append(s[i-1]+d[i])\n",
    "        \n",
    "    return s    \n",
    "    \n",
    "n = 10**2\n",
    "time_serie = time_series(1, 2, n) "
   ]
  },
  {
   "cell_type": "code",
   "execution_count": 146,
   "metadata": {
    "collapsed": false
   },
   "outputs": [
    {
     "data": {
      "image/png": "[encoded data removed]",
      "text/plain": [
       "<matplotlib.figure.Figure at 0x7f5d0f4fbe10>"
      ]
     },
     "metadata": {},
     "output_type": "display_data"
    }
   ],
   "source": [
    "plt.plot(time_serie)\n",
    "plt.xlabel(\"t\")\n",
    "plt.ylabel(\"Running sum\")\n",
    "plt.title(\"Cross-sectional sample\")\n",
    "plt.show()"
   ]
  },
  {
   "cell_type": "markdown",
   "metadata": {},
   "source": [
    "### Question 2"
   ]
  },
  {
   "cell_type": "code",
   "execution_count": 147,
   "metadata": {
    "collapsed": false
   },
   "outputs": [
    {
     "data": {
      "image/png": "[encoded data removed]",
      "text/plain": [
       "<matplotlib.figure.Figure at 0x7f5d0f4d1b38>"
      ]
     },
     "metadata": {},
     "output_type": "display_data"
    }
   ],
   "source": [
    "st = np.delete(time_serie, 0)\n",
    "st_1 = np.delete(time_serie, len(time_serie)-1)\n",
    "\n",
    "plt.scatter(st_1, st)\n",
    "plt.show()"
   ]
  },
  {
   "cell_type": "markdown",
   "metadata": {},
   "source": [
    "### Question 3"
   ]
  },
  {
   "cell_type": "code",
   "execution_count": 165,
   "metadata": {
    "collapsed": false
   },
   "outputs": [
    {
     "name": "stdout",
     "output_type": "stream",
     "text": [
      "[ 0.99610464  0.94901899  1.99360697]\n"
     ]
    }
   ],
   "source": [
    "x = np.arange(len(time_serie))\n",
    "pairs = [(x[i], time_serie[i]) for i in range(0, len(time_serie))]\n",
    "\n",
    "lll, parameters = fit_lrm2(pairs)\n",
    "index = lll.index(max(lll))\n",
    "print(parameters[index])"
   ]
  },
  {
   "cell_type": "markdown",
   "metadata": {},
   "source": [
    "We would expect an alpha of 0 and a beta of 1.\n",
    "\n",
    "It is wrong to fit the parameters because in this case $S_i$ is depending on $S_{i-1}$"
   ]
  },
  {
   "cell_type": "markdown",
   "metadata": {},
   "source": [
    "### Question 4\n"
   ]
  },
  {
   "cell_type": "code",
   "execution_count": 144,
   "metadata": {
    "collapsed": false
   },
   "outputs": [
    {
     "data": {
      "image/png": "[encoded data removed]",
      "text/plain": [
       "<matplotlib.figure.Figure at 0x7f5d0f379cf8>"
      ]
     },
     "metadata": {},
     "output_type": "display_data"
    }
   ],
   "source": [
    "y =  parameters[index][0] + parameters[index][1] * x\n",
    "\n",
    "plt.plot(time_serie)\n",
    "plt.plot(x, y, color='red')\n",
    "plt.legend()\n",
    "plt.show()"
   ]
  },
  {
   "cell_type": "markdown",
   "metadata": {},
   "source": [
    "Although that the sigma is actually quite the same as the correct value of 2 we can say that if it wasn't correct. It would have to do with the fact that the values aren't independent ($S_i$ is depending on $S_{i-1}$). If an error occured in one point it will occur in every point. "
   ]
  },
  {
   "cell_type": "markdown",
   "metadata": {},
   "source": [
    "### Question 5\n",
    "We can estimate sigma by measuring the differences between $S_i$ and $S_i - 1$ and calculate the standarddeviation of this.\n"
   ]
  },
  {
   "cell_type": "code",
   "execution_count": 169,
   "metadata": {
    "collapsed": false
   },
   "outputs": [
    {
     "name": "stdout",
     "output_type": "stream",
     "text": [
      "1.78136830268\n"
     ]
    }
   ],
   "source": [
    "difference = [time_serie[i] - time_serie[i-1] for i in range(1, len(time_serie) -1 )]\n",
    "\n",
    "sigma = np.std(difference)\n",
    "print(sigma)"
   ]
  },
  {
   "cell_type": "markdown",
   "metadata": {},
   "source": [
    "### Question 6\n"
   ]
  },
  {
   "cell_type": "code",
   "execution_count": null,
   "metadata": {
    "collapsed": true
   },
   "outputs": [],
   "source": []
  }
 ],
 "metadata": {
  "kernelspec": {
   "display_name": "Python 3",
   "language": "python",
   "name": "python3"
  },
  "language_info": {
   "codemirror_mode": {
    "name": "ipython",
    "version": 3
   },
   "file_extension": ".py",
   "mimetype": "text/x-python",
   "name": "python",
   "nbconvert_exporter": "python",
   "pygments_lexer": "ipython3",
   "version": "3.5.2"
  }
 },
 "nbformat": 4,
 "nbformat_minor": 2
}

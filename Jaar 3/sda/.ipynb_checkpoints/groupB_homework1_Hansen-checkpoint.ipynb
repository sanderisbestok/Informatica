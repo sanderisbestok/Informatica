{
 "cells": [
  {
   "cell_type": "markdown",
   "metadata": {
    "deletable": true,
    "editable": true
   },
   "source": [
    "# Lab 1"
   ]
  },
  {
   "cell_type": "code",
   "execution_count": 29,
   "metadata": {
    "collapsed": true,
    "deletable": true,
    "editable": true
   },
   "outputs": [],
   "source": [
    "import numpy as np\n",
    "import scipy.special as sp\n",
    "import matplotlib.pyplot as plt\n",
    "import csv"
   ]
  },
  {
   "cell_type": "markdown",
   "metadata": {
    "deletable": true,
    "editable": true
   },
   "source": [
    "## Problem 1\n",
    "\n",
    "### Question 1"
   ]
  },
  {
   "cell_type": "code",
   "execution_count": 3,
   "metadata": {
    "collapsed": false,
    "deletable": true,
    "editable": true
   },
   "outputs": [],
   "source": [
    "seed = 0\n",
    "\n",
    "\n",
    "def randint(a, c, m):\n",
    "    global seed   \n",
    "    seed = np.mod((a * seed + c), m)\n",
    "    \n",
    "    return seed"
   ]
  },
  {
   "cell_type": "markdown",
   "metadata": {
    "deletable": true,
    "editable": true
   },
   "source": [
    "### Question 2"
   ]
  },
  {
   "cell_type": "code",
   "execution_count": 21,
   "metadata": {
    "collapsed": false,
    "deletable": true,
    "editable": true
   },
   "outputs": [
    {
     "name": "stdout",
     "output_type": "stream",
     "text": [
      "0.378918778616935\n"
     ]
    }
   ],
   "source": [
    "def rand():\n",
    "    number = randint(1664525, 1013904223, (2**(32)))\n",
    "    number_float = float(number / (2**(32)))\n",
    "    \n",
    "    return number_float\n",
    "    \n",
    "print(rand())    "
   ]
  },
  {
   "cell_type": "markdown",
   "metadata": {
    "deletable": true,
    "editable": true
   },
   "source": [
    "### Question 3"
   ]
  },
  {
   "cell_type": "code",
   "execution_count": 22,
   "metadata": {
    "collapsed": false,
    "deletable": true,
    "editable": true
   },
   "outputs": [
    {
     "data": {
      "image/png": "[encoded data removed]",
      "text/plain": [
       "<matplotlib.figure.Figure at 0x7fa94a273e80>"
      ]
     },
     "metadata": {},
     "output_type": "display_data"
    }
   ],
   "source": [
    "real_numbers = [rand() for x in range(0, 10**7)]\n",
    "\n",
    "plt.figure(figsize=(10,8))\n",
    "heights, _, _ = plt.hist(real_numbers, 50)\n",
    "plt.show()"
   ]
  },
  {
   "cell_type": "markdown",
   "metadata": {
    "collapsed": true,
    "deletable": true,
    "editable": true
   },
   "source": [
    "### Question 4"
   ]
  },
  {
   "cell_type": "markdown",
   "metadata": {
    "deletable": true,
    "editable": true
   },
   "source": [
    "a Dit is een binomiale verdeling. Deze verdeling met n getallen verdeeld over k gelijke stukken.\n",
    "\n",
    "b Het gemiddelde is $np$, waar p gelijk is aan $\\frac{1}{k}$ (de kans dat het in een deze bin zit) dus $\\frac{n}{k}$. De standaard deviatie is dan $\\sqrt{np(1-p)}$ wat ons $\\sqrt{\\frac{n}{k}(1-\\frac{1}{k})}$ geeft.\n",
    "\n",
    "c Hiervoor moeten het gemiddelde en de standaard afwijking worden geïmplementeerd. Eerst berekenen we de theoretische."
   ]
  },
  {
   "cell_type": "code",
   "execution_count": 23,
   "metadata": {
    "collapsed": false,
    "deletable": true,
    "editable": true
   },
   "outputs": [
    {
     "name": "stdout",
     "output_type": "stream",
     "text": [
      "200000.0\n",
      "442.718872424\n"
     ]
    }
   ],
   "source": [
    "def mean(n, k):\n",
    "    return n * (1/k)\n",
    "    \n",
    "    \n",
    "def standard_deviation(n, k):\n",
    "    return np.sqrt((n/k)*(1-(1/k)))\n",
    "\n",
    "print(mean(10**7, 50))\n",
    "print(standard_deviation(10**7,50))"
   ]
  },
  {
   "cell_type": "markdown",
   "metadata": {
    "deletable": true,
    "editable": true
   },
   "source": [
    "Nu kunnen we de resultaten uit de histogram gebruiken."
   ]
  },
  {
   "cell_type": "code",
   "execution_count": 26,
   "metadata": {
    "collapsed": false,
    "deletable": true,
    "editable": true
   },
   "outputs": [
    {
     "name": "stdout",
     "output_type": "stream",
     "text": [
      "200000.0\n",
      "455.762087059\n"
     ]
    }
   ],
   "source": [
    "def actual_mean(heights):\n",
    "    return sum(heights) / len(heights)\n",
    "\n",
    "def actual_standard_deviation(heights):\n",
    "    square = 0\n",
    "    mean = actual_mean(heights)\n",
    "    \n",
    "    for height in heights:\n",
    "        square += (height - mean)**2 \n",
    "    \n",
    "    return np.sqrt(square / len(heights))\n",
    "\n",
    "print(actual_mean(heights))\n",
    "print(actual_standard_deviation(heights))"
   ]
  },
  {
   "cell_type": "markdown",
   "metadata": {
    "deletable": true,
    "editable": true
   },
   "source": [
    "Zoals te zien is het gemiddelde gelijk, en valt de standaard afwijking net binnen de 20% foutmarge.\n",
    "\n",
    "d Dit kan met de poisson verdeling als n heel erg groot wordt, en de kans heel erg klein (dus k erg groot). Het gemiddelde van de poisson is $n * \\frac{1}{k}$ en de standaardafwijking $\\sqrt{n*\\frac{1}{k}}$.\n",
    "\n",
    "Het gemiddelde veranderd dus niet en de standaardafwijking valt nog steeds binnen het marge."
   ]
  },
  {
   "cell_type": "code",
   "execution_count": 28,
   "metadata": {
    "collapsed": false,
    "deletable": true,
    "editable": true
   },
   "outputs": [
    {
     "name": "stdout",
     "output_type": "stream",
     "text": [
      "447.2135955\n"
     ]
    }
   ],
   "source": [
    "def standard_deviation_poisson(n, k):\n",
    "    return np.sqrt(n*(1/k))\n",
    "\n",
    "print(standard_deviation_poisson(10**7,50))"
   ]
  },
  {
   "cell_type": "markdown",
   "metadata": {
    "deletable": true,
    "editable": true
   },
   "source": [
    "## Problem 2\n",
    "\n",
    "### Question 1"
   ]
  },
  {
   "cell_type": "markdown",
   "metadata": {
    "deletable": true,
    "editable": true
   },
   "source": [
    "### Question 2"
   ]
  },
  {
   "cell_type": "code",
   "execution_count": 46,
   "metadata": {
    "collapsed": false
   },
   "outputs": [
    {
     "data": {
      "image/png": "[encoded data removed]",
      "text/plain": [
       "<matplotlib.figure.Figure at 0x7fa93b764748>"
      ]
     },
     "metadata": {},
     "output_type": "display_data"
    }
   ],
   "source": [
    "def cdf(x, mu, sigma):\n",
    "    return 0.5 * (1 + sp.erf((x-mu)) / (sigma * np.sqrt(2)))\n",
    "\n",
    "mu = 0\n",
    "sigma = 2\n",
    "x = np.linspace(mu - 2 * sigma, mu + 2 * sigma)\n",
    "\n",
    "y = cdf(x, mu, sigma)\n",
    "\n",
    "plt.figure(figsize=(10,8))\n",
    "plt.plot(x, y)\n",
    "plt.title(\"CDF on range mu - 2*sigma to mu + 2*sigma with sigma %d and mu %d\" %(sigma, mu))\n",
    "plt.xlabel(\"x\")\n",
    "plt.ylabel(\"CDF\")\n",
    "plt.show()"
   ]
  },
  {
   "cell_type": "markdown",
   "metadata": {},
   "source": [
    "De nummers met de hoogste kans om gekozen te worden zitten het dichtsbij het gemiddelde. In de CDF is dit bij het buigpunt. Het tegenovergestelde geld voor de punten die het verst van het buigpunt af zitten, deze zullen minder snel gekozen worden."
   ]
  },
  {
   "cell_type": "markdown",
   "metadata": {
    "deletable": true,
    "editable": true
   },
   "source": [
    "## Problem 3\n",
    "\n",
    "### Question 1"
   ]
  },
  {
   "cell_type": "code",
   "execution_count": 70,
   "metadata": {
    "collapsed": false,
    "deletable": true,
    "editable": true
   },
   "outputs": [],
   "source": [
    "fin = open('nutrient.csv', 'r')\n",
    "csvr = csv.reader(fin)\n",
    "samples = [row for row in csvr] # list of strings\n",
    "samples = np.array([list(map(float, s)) for s in samples]) # list of floats"
   ]
  },
  {
   "cell_type": "code",
   "execution_count": 96,
   "metadata": {
    "collapsed": false,
    "deletable": true,
    "editable": true
   },
   "outputs": [
    {
     "data": {
      "image/png": "[encoded data removed]",
      "text/plain": [
       "<matplotlib.figure.Figure at 0x7fa937d657b8>"
      ]
     },
     "metadata": {},
     "output_type": "display_data"
    }
   ],
   "source": [
    "vitamine_C = samples[:,-1]\n",
    "\n",
    "plt.figure(figsize=(10,8))\n",
    "plt.title(\"Vitamine C intake\")\n",
    "heights, _, _ = plt.hist(vitamine_C, 150)\n",
    "plt.xlabel(\"mg Vitamine C\")\n",
    "plt.ylabel(\"People\")\n",
    "plt.axvline(87.9, color=\"r\", label=\"Sample mean\")\n",
    "plt.axvline(75, color=\"g\", label=\"Recommended\")\n",
    "plt.axvline(actual_standard_deviation(heights), color=\"#000000\", label=\"Standard deviation\")\n",
    "plt.legend()\n",
    "plt.show()"
   ]
  },
  {
   "cell_type": "markdown",
   "metadata": {},
   "source": [
    "Dit zal waarschijnlijk  niet zo zijn omdat de standaardafwijking kleiner is dan het verschil tussen het sample gemiddelde en daadwerkelijke gemiddelde (recommended value)."
   ]
  },
  {
   "cell_type": "markdown",
   "metadata": {},
   "source": [
    "### Question 2\n",
    "\n",
    "$Pr(\\vec{x}^{\\,} | \\mu', \\sigma')$ = De kans dat vector x het resultaat is van een model met mu en sigma als parameters\n",
    "\n",
    "$Pr(\\mu', \\sigma')$ = de kans dat mu en sigma de gebruikte parameters zijn\n",
    "\n",
    "$Pr(\\vec{x}^{\\,})$ = de kans dat de vector x de resultaten weergeeft\n",
    "\n",
    "We kunnen bayes theorem gebruiken om tot de volgende formule uit te komen\n",
    "\n",
    "$Pr(\\mu',\\sigma' | \\vec{x}^{\\,}) = \\frac{Pr(\\vec{x}^{\\,} | \\mu', \\sigma')Pr(\\mu', \\sigma')}{Pr(\\vec{x}^{\\,})}$"
   ]
  },
  {
   "cell_type": "markdown",
   "metadata": {},
   "source": [
    "### Question 3\n",
    "Bij een uniforme verdeling zal een deling altijd het zelfde getal teruggeven. De deling $\\frac{Pr(\\mu', \\sigma')}{Pr(\\vec{x}^{\\,})}$ kan dus weggelaten worden en vervangen worden door een contstante."
   ]
  },
  {
   "cell_type": "markdown",
   "metadata": {},
   "source": [
    "### Question 4\n",
    "De kans dat sigma en mu parameters van het model zijn is evengroot als wanneer de vector x het restultaat is en zijn parameters vermenigvuldigt zijn met een constante C.\n",
    "\n",
    "Omdat het een constante is kan deze weg worden gelaten en kan gezegd worden dat ze direct proportioneel zijn. (Eigenlijk zijn beide formules dus precies hetzelfde)"
   ]
  },
  {
   "cell_type": "markdown",
   "metadata": {},
   "source": [
    "### Question 5\n",
    "Je kan zeggen dat de waardes (van de parameters) dichterbij 78,3, liggen dan bij 80,4 maar we kunnen er niet uit halen of de waardes kleiner of groter dan 78,3 zijn."
   ]
  },
  {
   "cell_type": "markdown",
   "metadata": {},
   "source": [
    "### Question 6\n",
    "$\\Pi^{n}_{i = 0} Pr(x_i | \\mu', \\sigma')$\n",
    "\n",
    "Wat simpelweg een optelling inhoud dat we alle kansen los beschouwen."
   ]
  },
  {
   "cell_type": "code",
   "execution_count": null,
   "metadata": {
    "collapsed": true
   },
   "outputs": [],
   "source": []
  }
 ],
 "metadata": {
  "kernelspec": {
   "display_name": "Python 3",
   "language": "python",
   "name": "python3"
  },
  "language_info": {
   "codemirror_mode": {
    "name": "ipython",
    "version": 3
   },
   "file_extension": ".py",
   "mimetype": "text/x-python",
   "name": "python",
   "nbconvert_exporter": "python",
   "pygments_lexer": "ipython3",
   "version": "3.5.2"
  }
 },
 "nbformat": 4,
 "nbformat_minor": 2
}
